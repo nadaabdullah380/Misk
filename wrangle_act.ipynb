{
 "cells": [
  {
   "cell_type": "markdown",
   "id": "9bf40a93",
   "metadata": {},
   "source": [
    "# 1- Data Gathering"
   ]
  },
  {
   "cell_type": "code",
   "execution_count": 155,
   "id": "d18f16b5",
   "metadata": {},
   "outputs": [],
   "source": [
    "import pandas as pd\n",
    "import numpy as np\n",
    "import requests \n",
    "import json\n",
    "import datetime\n",
    "import matplotlib.pyplot as plt \n",
    "import seaborn as sns\n",
    "%matplotlib inline"
   ]
  },
  {
   "cell_type": "code",
   "execution_count": 156,
   "id": "cbb27099",
   "metadata": {
    "scrolled": true
   },
   "outputs": [
    {
     "data": {
      "text/html": [
       "<div>\n",
       "<style scoped>\n",
       "    .dataframe tbody tr th:only-of-type {\n",
       "        vertical-align: middle;\n",
       "    }\n",
       "\n",
       "    .dataframe tbody tr th {\n",
       "        vertical-align: top;\n",
       "    }\n",
       "\n",
       "    .dataframe thead th {\n",
       "        text-align: right;\n",
       "    }\n",
       "</style>\n",
       "<table border=\"1\" class=\"dataframe\">\n",
       "  <thead>\n",
       "    <tr style=\"text-align: right;\">\n",
       "      <th></th>\n",
       "      <th>tweet_id</th>\n",
       "      <th>in_reply_to_status_id</th>\n",
       "      <th>in_reply_to_user_id</th>\n",
       "      <th>timestamp</th>\n",
       "      <th>source</th>\n",
       "      <th>text</th>\n",
       "      <th>retweeted_status_id</th>\n",
       "      <th>retweeted_status_user_id</th>\n",
       "      <th>retweeted_status_timestamp</th>\n",
       "      <th>expanded_urls</th>\n",
       "      <th>rating_numerator</th>\n",
       "      <th>rating_denominator</th>\n",
       "      <th>name</th>\n",
       "      <th>doggo</th>\n",
       "      <th>floofer</th>\n",
       "      <th>pupper</th>\n",
       "      <th>puppo</th>\n",
       "    </tr>\n",
       "  </thead>\n",
       "  <tbody>\n",
       "    <tr>\n",
       "      <th>0</th>\n",
       "      <td>892420643555336193</td>\n",
       "      <td>NaN</td>\n",
       "      <td>NaN</td>\n",
       "      <td>2017-08-01 16:23:56 +0000</td>\n",
       "      <td>&lt;a href=\"http://twitter.com/download/iphone\" r...</td>\n",
       "      <td>This is Phineas. He's a mystical boy. Only eve...</td>\n",
       "      <td>NaN</td>\n",
       "      <td>NaN</td>\n",
       "      <td>NaN</td>\n",
       "      <td>https://twitter.com/dog_rates/status/892420643...</td>\n",
       "      <td>13</td>\n",
       "      <td>10</td>\n",
       "      <td>Phineas</td>\n",
       "      <td>None</td>\n",
       "      <td>None</td>\n",
       "      <td>None</td>\n",
       "      <td>None</td>\n",
       "    </tr>\n",
       "    <tr>\n",
       "      <th>1</th>\n",
       "      <td>892177421306343426</td>\n",
       "      <td>NaN</td>\n",
       "      <td>NaN</td>\n",
       "      <td>2017-08-01 00:17:27 +0000</td>\n",
       "      <td>&lt;a href=\"http://twitter.com/download/iphone\" r...</td>\n",
       "      <td>This is Tilly. She's just checking pup on you....</td>\n",
       "      <td>NaN</td>\n",
       "      <td>NaN</td>\n",
       "      <td>NaN</td>\n",
       "      <td>https://twitter.com/dog_rates/status/892177421...</td>\n",
       "      <td>13</td>\n",
       "      <td>10</td>\n",
       "      <td>Tilly</td>\n",
       "      <td>None</td>\n",
       "      <td>None</td>\n",
       "      <td>None</td>\n",
       "      <td>None</td>\n",
       "    </tr>\n",
       "    <tr>\n",
       "      <th>2</th>\n",
       "      <td>891815181378084864</td>\n",
       "      <td>NaN</td>\n",
       "      <td>NaN</td>\n",
       "      <td>2017-07-31 00:18:03 +0000</td>\n",
       "      <td>&lt;a href=\"http://twitter.com/download/iphone\" r...</td>\n",
       "      <td>This is Archie. He is a rare Norwegian Pouncin...</td>\n",
       "      <td>NaN</td>\n",
       "      <td>NaN</td>\n",
       "      <td>NaN</td>\n",
       "      <td>https://twitter.com/dog_rates/status/891815181...</td>\n",
       "      <td>12</td>\n",
       "      <td>10</td>\n",
       "      <td>Archie</td>\n",
       "      <td>None</td>\n",
       "      <td>None</td>\n",
       "      <td>None</td>\n",
       "      <td>None</td>\n",
       "    </tr>\n",
       "  </tbody>\n",
       "</table>\n",
       "</div>"
      ],
      "text/plain": [
       "             tweet_id  in_reply_to_status_id  in_reply_to_user_id  \\\n",
       "0  892420643555336193                    NaN                  NaN   \n",
       "1  892177421306343426                    NaN                  NaN   \n",
       "2  891815181378084864                    NaN                  NaN   \n",
       "\n",
       "                   timestamp  \\\n",
       "0  2017-08-01 16:23:56 +0000   \n",
       "1  2017-08-01 00:17:27 +0000   \n",
       "2  2017-07-31 00:18:03 +0000   \n",
       "\n",
       "                                              source  \\\n",
       "0  <a href=\"http://twitter.com/download/iphone\" r...   \n",
       "1  <a href=\"http://twitter.com/download/iphone\" r...   \n",
       "2  <a href=\"http://twitter.com/download/iphone\" r...   \n",
       "\n",
       "                                                text  retweeted_status_id  \\\n",
       "0  This is Phineas. He's a mystical boy. Only eve...                  NaN   \n",
       "1  This is Tilly. She's just checking pup on you....                  NaN   \n",
       "2  This is Archie. He is a rare Norwegian Pouncin...                  NaN   \n",
       "\n",
       "   retweeted_status_user_id retweeted_status_timestamp  \\\n",
       "0                       NaN                        NaN   \n",
       "1                       NaN                        NaN   \n",
       "2                       NaN                        NaN   \n",
       "\n",
       "                                       expanded_urls  rating_numerator  \\\n",
       "0  https://twitter.com/dog_rates/status/892420643...                13   \n",
       "1  https://twitter.com/dog_rates/status/892177421...                13   \n",
       "2  https://twitter.com/dog_rates/status/891815181...                12   \n",
       "\n",
       "   rating_denominator     name doggo floofer pupper puppo  \n",
       "0                  10  Phineas  None    None   None  None  \n",
       "1                  10    Tilly  None    None   None  None  \n",
       "2                  10   Archie  None    None   None  None  "
      ]
     },
     "execution_count": 156,
     "metadata": {},
     "output_type": "execute_result"
    }
   ],
   "source": [
    "archive_df = pd.read_csv('twitter-archive-enhanced.csv')\n",
    "archive_df.head(3)"
   ]
  },
  {
   "cell_type": "code",
   "execution_count": 157,
   "id": "494648aa",
   "metadata": {},
   "outputs": [
    {
     "data": {
      "text/html": [
       "<div>\n",
       "<style scoped>\n",
       "    .dataframe tbody tr th:only-of-type {\n",
       "        vertical-align: middle;\n",
       "    }\n",
       "\n",
       "    .dataframe tbody tr th {\n",
       "        vertical-align: top;\n",
       "    }\n",
       "\n",
       "    .dataframe thead th {\n",
       "        text-align: right;\n",
       "    }\n",
       "</style>\n",
       "<table border=\"1\" class=\"dataframe\">\n",
       "  <thead>\n",
       "    <tr style=\"text-align: right;\">\n",
       "      <th></th>\n",
       "      <th>tweet_id</th>\n",
       "      <th>jpg_url</th>\n",
       "      <th>img_num</th>\n",
       "      <th>p1</th>\n",
       "      <th>p1_conf</th>\n",
       "      <th>p1_dog</th>\n",
       "      <th>p2</th>\n",
       "      <th>p2_conf</th>\n",
       "      <th>p2_dog</th>\n",
       "      <th>p3</th>\n",
       "      <th>p3_conf</th>\n",
       "      <th>p3_dog</th>\n",
       "    </tr>\n",
       "  </thead>\n",
       "  <tbody>\n",
       "    <tr>\n",
       "      <th>0</th>\n",
       "      <td>666020888022790149</td>\n",
       "      <td>https://pbs.twimg.com/media/CT4udn0WwAA0aMy.jpg</td>\n",
       "      <td>1</td>\n",
       "      <td>Welsh_springer_spaniel</td>\n",
       "      <td>0.465074</td>\n",
       "      <td>True</td>\n",
       "      <td>collie</td>\n",
       "      <td>0.156665</td>\n",
       "      <td>True</td>\n",
       "      <td>Shetland_sheepdog</td>\n",
       "      <td>0.061428</td>\n",
       "      <td>True</td>\n",
       "    </tr>\n",
       "    <tr>\n",
       "      <th>1</th>\n",
       "      <td>666029285002620928</td>\n",
       "      <td>https://pbs.twimg.com/media/CT42GRgUYAA5iDo.jpg</td>\n",
       "      <td>1</td>\n",
       "      <td>redbone</td>\n",
       "      <td>0.506826</td>\n",
       "      <td>True</td>\n",
       "      <td>miniature_pinscher</td>\n",
       "      <td>0.074192</td>\n",
       "      <td>True</td>\n",
       "      <td>Rhodesian_ridgeback</td>\n",
       "      <td>0.072010</td>\n",
       "      <td>True</td>\n",
       "    </tr>\n",
       "    <tr>\n",
       "      <th>2</th>\n",
       "      <td>666033412701032449</td>\n",
       "      <td>https://pbs.twimg.com/media/CT4521TWwAEvMyu.jpg</td>\n",
       "      <td>1</td>\n",
       "      <td>German_shepherd</td>\n",
       "      <td>0.596461</td>\n",
       "      <td>True</td>\n",
       "      <td>malinois</td>\n",
       "      <td>0.138584</td>\n",
       "      <td>True</td>\n",
       "      <td>bloodhound</td>\n",
       "      <td>0.116197</td>\n",
       "      <td>True</td>\n",
       "    </tr>\n",
       "    <tr>\n",
       "      <th>3</th>\n",
       "      <td>666044226329800704</td>\n",
       "      <td>https://pbs.twimg.com/media/CT5Dr8HUEAA-lEu.jpg</td>\n",
       "      <td>1</td>\n",
       "      <td>Rhodesian_ridgeback</td>\n",
       "      <td>0.408143</td>\n",
       "      <td>True</td>\n",
       "      <td>redbone</td>\n",
       "      <td>0.360687</td>\n",
       "      <td>True</td>\n",
       "      <td>miniature_pinscher</td>\n",
       "      <td>0.222752</td>\n",
       "      <td>True</td>\n",
       "    </tr>\n",
       "    <tr>\n",
       "      <th>4</th>\n",
       "      <td>666049248165822465</td>\n",
       "      <td>https://pbs.twimg.com/media/CT5IQmsXIAAKY4A.jpg</td>\n",
       "      <td>1</td>\n",
       "      <td>miniature_pinscher</td>\n",
       "      <td>0.560311</td>\n",
       "      <td>True</td>\n",
       "      <td>Rottweiler</td>\n",
       "      <td>0.243682</td>\n",
       "      <td>True</td>\n",
       "      <td>Doberman</td>\n",
       "      <td>0.154629</td>\n",
       "      <td>True</td>\n",
       "    </tr>\n",
       "  </tbody>\n",
       "</table>\n",
       "</div>"
      ],
      "text/plain": [
       "             tweet_id                                          jpg_url  \\\n",
       "0  666020888022790149  https://pbs.twimg.com/media/CT4udn0WwAA0aMy.jpg   \n",
       "1  666029285002620928  https://pbs.twimg.com/media/CT42GRgUYAA5iDo.jpg   \n",
       "2  666033412701032449  https://pbs.twimg.com/media/CT4521TWwAEvMyu.jpg   \n",
       "3  666044226329800704  https://pbs.twimg.com/media/CT5Dr8HUEAA-lEu.jpg   \n",
       "4  666049248165822465  https://pbs.twimg.com/media/CT5IQmsXIAAKY4A.jpg   \n",
       "\n",
       "   img_num                      p1   p1_conf  p1_dog                  p2  \\\n",
       "0        1  Welsh_springer_spaniel  0.465074    True              collie   \n",
       "1        1                 redbone  0.506826    True  miniature_pinscher   \n",
       "2        1         German_shepherd  0.596461    True            malinois   \n",
       "3        1     Rhodesian_ridgeback  0.408143    True             redbone   \n",
       "4        1      miniature_pinscher  0.560311    True          Rottweiler   \n",
       "\n",
       "    p2_conf  p2_dog                   p3   p3_conf  p3_dog  \n",
       "0  0.156665    True    Shetland_sheepdog  0.061428    True  \n",
       "1  0.074192    True  Rhodesian_ridgeback  0.072010    True  \n",
       "2  0.138584    True           bloodhound  0.116197    True  \n",
       "3  0.360687    True   miniature_pinscher  0.222752    True  \n",
       "4  0.243682    True             Doberman  0.154629    True  "
      ]
     },
     "execution_count": 157,
     "metadata": {},
     "output_type": "execute_result"
    }
   ],
   "source": [
    "url = 'https://d17h27t6h515a5.cloudfront.net/topher/2017/August/599fd2ad_image-predictions/image-predictions.tsv'\n",
    "\n",
    "response = requests.get(url)\n",
    "\n",
    "with open (url.split('/')[-1] , mode = 'wb') as outfile:\n",
    "    outfile.write(response.content)\n",
    "    \n",
    "images_df = pd.read_csv('image-predictions.tsv' , sep = '\\t')  \n",
    "images_df.head(5)"
   ]
  },
  {
   "cell_type": "code",
   "execution_count": null,
   "id": "3d023d69",
   "metadata": {},
   "outputs": [],
   "source": [
    "import tweepy\n",
    "from tweepy import OAuthHandler\n",
    "import json\n",
    "from timeit import default_timer as timer\n",
    "\n",
    "# Query Twitter API for each tweet in the Twitter archive and save JSON in a text file\n",
    "# These are hidden to comply with Twitter's API terms and conditions\n",
    "consumer_key = 'HIDDEN'\n",
    "consumer_secret = 'HIDDEN'\n",
    "access_token = 'HIDDEN'\n",
    "access_secret = 'HIDDEN'\n",
    "\n",
    "auth = OAuthHandler(consumer_key, consumer_secret)\n",
    "auth.set_access_token(access_token, access_secret)\n",
    "\n",
    "api = tweepy.API(auth, wait_on_rate_limit=True)\n",
    "\n",
    "# NOTE TO STUDENT WITH MOBILE VERIFICATION ISSUES:\n",
    "# df_1 is a DataFrame with the twitter_archive_enhanced.csv file. You may have to\n",
    "# change line 17 to match the name of your DataFrame with twitter_archive_enhanced.csv\n",
    "# NOTE TO REVIEWER: this student had mobile verification issues so the following\n",
    "# Twitter API code was sent to this student from a Udacity instructor\n",
    "# Tweet IDs for which to gather additional data via Twitter's API\n",
    "tweet_ids = df_1.tweet_id.values\n",
    "len(tweet_ids)\n",
    "\n",
    "# Query Twitter's API for JSON data for each tweet ID in the Twitter archive\n",
    "count = 0\n",
    "fails_dict = {}\n",
    "start = timer()\n",
    "# Save each tweet's returned JSON as a new line in a .txt file\n",
    "with open('tweet_json.txt', 'w') as outfile:\n",
    "    # This loop will likely take 20-30 minutes to run because of Twitter's rate limit\n",
    "    for tweet_id in tweet_ids:\n",
    "        count += 1\n",
    "        print(str(count) + \": \" + str(tweet_id))\n",
    "        try:\n",
    "            tweet = api.get_status(tweet_id, tweet_mode='extended')\n",
    "            print(\"Success\")\n",
    "            json.dump(tweet._json, outfile)\n",
    "            outfile.write('\\n')\n",
    "        except tweepy.TweepError as e:\n",
    "            print(\"Fail\")\n",
    "            fails_dict[tweet_id] = e\n",
    "            pass\n",
    "end = timer()\n",
    "print(end - start)\n",
    "print(fails_dict)"
   ]
  },
  {
   "cell_type": "code",
   "execution_count": 158,
   "id": "168b5344",
   "metadata": {},
   "outputs": [
    {
     "data": {
      "text/html": [
       "<div>\n",
       "<style scoped>\n",
       "    .dataframe tbody tr th:only-of-type {\n",
       "        vertical-align: middle;\n",
       "    }\n",
       "\n",
       "    .dataframe tbody tr th {\n",
       "        vertical-align: top;\n",
       "    }\n",
       "\n",
       "    .dataframe thead th {\n",
       "        text-align: right;\n",
       "    }\n",
       "</style>\n",
       "<table border=\"1\" class=\"dataframe\">\n",
       "  <thead>\n",
       "    <tr style=\"text-align: right;\">\n",
       "      <th></th>\n",
       "      <th>created_at</th>\n",
       "      <th>id</th>\n",
       "      <th>id_str</th>\n",
       "      <th>full_text</th>\n",
       "      <th>truncated</th>\n",
       "      <th>display_text_range</th>\n",
       "      <th>entities</th>\n",
       "      <th>extended_entities</th>\n",
       "      <th>source</th>\n",
       "      <th>in_reply_to_status_id</th>\n",
       "      <th>...</th>\n",
       "      <th>favorite_count</th>\n",
       "      <th>favorited</th>\n",
       "      <th>retweeted</th>\n",
       "      <th>possibly_sensitive</th>\n",
       "      <th>possibly_sensitive_appealable</th>\n",
       "      <th>lang</th>\n",
       "      <th>retweeted_status</th>\n",
       "      <th>quoted_status_id</th>\n",
       "      <th>quoted_status_id_str</th>\n",
       "      <th>quoted_status</th>\n",
       "    </tr>\n",
       "  </thead>\n",
       "  <tbody>\n",
       "    <tr>\n",
       "      <th>0</th>\n",
       "      <td>2017-08-01 16:23:56+00:00</td>\n",
       "      <td>892420643555336193</td>\n",
       "      <td>892420643555336192</td>\n",
       "      <td>This is Phineas. He's a mystical boy. Only eve...</td>\n",
       "      <td>False</td>\n",
       "      <td>[0, 85]</td>\n",
       "      <td>{'hashtags': [], 'symbols': [], 'user_mentions...</td>\n",
       "      <td>{'media': [{'id': 892420639486877696, 'id_str'...</td>\n",
       "      <td>&lt;a href=\"http://twitter.com/download/iphone\" r...</td>\n",
       "      <td>NaN</td>\n",
       "      <td>...</td>\n",
       "      <td>39467</td>\n",
       "      <td>False</td>\n",
       "      <td>False</td>\n",
       "      <td>0.0</td>\n",
       "      <td>0.0</td>\n",
       "      <td>en</td>\n",
       "      <td>NaN</td>\n",
       "      <td>NaN</td>\n",
       "      <td>NaN</td>\n",
       "      <td>NaN</td>\n",
       "    </tr>\n",
       "    <tr>\n",
       "      <th>1</th>\n",
       "      <td>2017-08-01 00:17:27+00:00</td>\n",
       "      <td>892177421306343426</td>\n",
       "      <td>892177421306343424</td>\n",
       "      <td>This is Tilly. She's just checking pup on you....</td>\n",
       "      <td>False</td>\n",
       "      <td>[0, 138]</td>\n",
       "      <td>{'hashtags': [], 'symbols': [], 'user_mentions...</td>\n",
       "      <td>{'media': [{'id': 892177413194625024, 'id_str'...</td>\n",
       "      <td>&lt;a href=\"http://twitter.com/download/iphone\" r...</td>\n",
       "      <td>NaN</td>\n",
       "      <td>...</td>\n",
       "      <td>33819</td>\n",
       "      <td>False</td>\n",
       "      <td>False</td>\n",
       "      <td>0.0</td>\n",
       "      <td>0.0</td>\n",
       "      <td>en</td>\n",
       "      <td>NaN</td>\n",
       "      <td>NaN</td>\n",
       "      <td>NaN</td>\n",
       "      <td>NaN</td>\n",
       "    </tr>\n",
       "    <tr>\n",
       "      <th>2</th>\n",
       "      <td>2017-07-31 00:18:03+00:00</td>\n",
       "      <td>891815181378084864</td>\n",
       "      <td>891815181378084864</td>\n",
       "      <td>This is Archie. He is a rare Norwegian Pouncin...</td>\n",
       "      <td>False</td>\n",
       "      <td>[0, 121]</td>\n",
       "      <td>{'hashtags': [], 'symbols': [], 'user_mentions...</td>\n",
       "      <td>{'media': [{'id': 891815175371796480, 'id_str'...</td>\n",
       "      <td>&lt;a href=\"http://twitter.com/download/iphone\" r...</td>\n",
       "      <td>NaN</td>\n",
       "      <td>...</td>\n",
       "      <td>25461</td>\n",
       "      <td>False</td>\n",
       "      <td>False</td>\n",
       "      <td>0.0</td>\n",
       "      <td>0.0</td>\n",
       "      <td>en</td>\n",
       "      <td>NaN</td>\n",
       "      <td>NaN</td>\n",
       "      <td>NaN</td>\n",
       "      <td>NaN</td>\n",
       "    </tr>\n",
       "    <tr>\n",
       "      <th>3</th>\n",
       "      <td>2017-07-30 15:58:51+00:00</td>\n",
       "      <td>891689557279858688</td>\n",
       "      <td>891689557279858688</td>\n",
       "      <td>This is Darla. She commenced a snooze mid meal...</td>\n",
       "      <td>False</td>\n",
       "      <td>[0, 79]</td>\n",
       "      <td>{'hashtags': [], 'symbols': [], 'user_mentions...</td>\n",
       "      <td>{'media': [{'id': 891689552724799489, 'id_str'...</td>\n",
       "      <td>&lt;a href=\"http://twitter.com/download/iphone\" r...</td>\n",
       "      <td>NaN</td>\n",
       "      <td>...</td>\n",
       "      <td>42908</td>\n",
       "      <td>False</td>\n",
       "      <td>False</td>\n",
       "      <td>0.0</td>\n",
       "      <td>0.0</td>\n",
       "      <td>en</td>\n",
       "      <td>NaN</td>\n",
       "      <td>NaN</td>\n",
       "      <td>NaN</td>\n",
       "      <td>NaN</td>\n",
       "    </tr>\n",
       "    <tr>\n",
       "      <th>4</th>\n",
       "      <td>2017-07-29 16:00:24+00:00</td>\n",
       "      <td>891327558926688256</td>\n",
       "      <td>891327558926688256</td>\n",
       "      <td>This is Franklin. He would like you to stop ca...</td>\n",
       "      <td>False</td>\n",
       "      <td>[0, 138]</td>\n",
       "      <td>{'hashtags': [{'text': 'BarkWeek', 'indices': ...</td>\n",
       "      <td>{'media': [{'id': 891327551943041024, 'id_str'...</td>\n",
       "      <td>&lt;a href=\"http://twitter.com/download/iphone\" r...</td>\n",
       "      <td>NaN</td>\n",
       "      <td>...</td>\n",
       "      <td>41048</td>\n",
       "      <td>False</td>\n",
       "      <td>False</td>\n",
       "      <td>0.0</td>\n",
       "      <td>0.0</td>\n",
       "      <td>en</td>\n",
       "      <td>NaN</td>\n",
       "      <td>NaN</td>\n",
       "      <td>NaN</td>\n",
       "      <td>NaN</td>\n",
       "    </tr>\n",
       "  </tbody>\n",
       "</table>\n",
       "<p>5 rows × 31 columns</p>\n",
       "</div>"
      ],
      "text/plain": [
       "                 created_at                  id              id_str  \\\n",
       "0 2017-08-01 16:23:56+00:00  892420643555336193  892420643555336192   \n",
       "1 2017-08-01 00:17:27+00:00  892177421306343426  892177421306343424   \n",
       "2 2017-07-31 00:18:03+00:00  891815181378084864  891815181378084864   \n",
       "3 2017-07-30 15:58:51+00:00  891689557279858688  891689557279858688   \n",
       "4 2017-07-29 16:00:24+00:00  891327558926688256  891327558926688256   \n",
       "\n",
       "                                           full_text  truncated  \\\n",
       "0  This is Phineas. He's a mystical boy. Only eve...      False   \n",
       "1  This is Tilly. She's just checking pup on you....      False   \n",
       "2  This is Archie. He is a rare Norwegian Pouncin...      False   \n",
       "3  This is Darla. She commenced a snooze mid meal...      False   \n",
       "4  This is Franklin. He would like you to stop ca...      False   \n",
       "\n",
       "  display_text_range                                           entities  \\\n",
       "0            [0, 85]  {'hashtags': [], 'symbols': [], 'user_mentions...   \n",
       "1           [0, 138]  {'hashtags': [], 'symbols': [], 'user_mentions...   \n",
       "2           [0, 121]  {'hashtags': [], 'symbols': [], 'user_mentions...   \n",
       "3            [0, 79]  {'hashtags': [], 'symbols': [], 'user_mentions...   \n",
       "4           [0, 138]  {'hashtags': [{'text': 'BarkWeek', 'indices': ...   \n",
       "\n",
       "                                   extended_entities  \\\n",
       "0  {'media': [{'id': 892420639486877696, 'id_str'...   \n",
       "1  {'media': [{'id': 892177413194625024, 'id_str'...   \n",
       "2  {'media': [{'id': 891815175371796480, 'id_str'...   \n",
       "3  {'media': [{'id': 891689552724799489, 'id_str'...   \n",
       "4  {'media': [{'id': 891327551943041024, 'id_str'...   \n",
       "\n",
       "                                              source  in_reply_to_status_id  \\\n",
       "0  <a href=\"http://twitter.com/download/iphone\" r...                    NaN   \n",
       "1  <a href=\"http://twitter.com/download/iphone\" r...                    NaN   \n",
       "2  <a href=\"http://twitter.com/download/iphone\" r...                    NaN   \n",
       "3  <a href=\"http://twitter.com/download/iphone\" r...                    NaN   \n",
       "4  <a href=\"http://twitter.com/download/iphone\" r...                    NaN   \n",
       "\n",
       "   ...  favorite_count  favorited  retweeted possibly_sensitive  \\\n",
       "0  ...           39467      False      False                0.0   \n",
       "1  ...           33819      False      False                0.0   \n",
       "2  ...           25461      False      False                0.0   \n",
       "3  ...           42908      False      False                0.0   \n",
       "4  ...           41048      False      False                0.0   \n",
       "\n",
       "  possibly_sensitive_appealable  lang  retweeted_status quoted_status_id  \\\n",
       "0                           0.0    en               NaN              NaN   \n",
       "1                           0.0    en               NaN              NaN   \n",
       "2                           0.0    en               NaN              NaN   \n",
       "3                           0.0    en               NaN              NaN   \n",
       "4                           0.0    en               NaN              NaN   \n",
       "\n",
       "   quoted_status_id_str  quoted_status  \n",
       "0                   NaN            NaN  \n",
       "1                   NaN            NaN  \n",
       "2                   NaN            NaN  \n",
       "3                   NaN            NaN  \n",
       "4                   NaN            NaN  \n",
       "\n",
       "[5 rows x 31 columns]"
      ]
     },
     "execution_count": 158,
     "metadata": {},
     "output_type": "execute_result"
    }
   ],
   "source": [
    "tweet_df = pd.read_json('tweet-json.txt' , lines = True)\n",
    "tweet_df.head(5)"
   ]
  },
  {
   "cell_type": "markdown",
   "id": "beee2736",
   "metadata": {},
   "source": [
    "# 2- Assessing Data"
   ]
  },
  {
   "cell_type": "code",
   "execution_count": 159,
   "id": "3f5458df",
   "metadata": {},
   "outputs": [
    {
     "name": "stdout",
     "output_type": "stream",
     "text": [
      "<class 'pandas.core.frame.DataFrame'>\n",
      "RangeIndex: 2356 entries, 0 to 2355\n",
      "Data columns (total 17 columns):\n",
      " #   Column                      Non-Null Count  Dtype  \n",
      "---  ------                      --------------  -----  \n",
      " 0   tweet_id                    2356 non-null   int64  \n",
      " 1   in_reply_to_status_id       78 non-null     float64\n",
      " 2   in_reply_to_user_id         78 non-null     float64\n",
      " 3   timestamp                   2356 non-null   object \n",
      " 4   source                      2356 non-null   object \n",
      " 5   text                        2356 non-null   object \n",
      " 6   retweeted_status_id         181 non-null    float64\n",
      " 7   retweeted_status_user_id    181 non-null    float64\n",
      " 8   retweeted_status_timestamp  181 non-null    object \n",
      " 9   expanded_urls               2297 non-null   object \n",
      " 10  rating_numerator            2356 non-null   int64  \n",
      " 11  rating_denominator          2356 non-null   int64  \n",
      " 12  name                        2356 non-null   object \n",
      " 13  doggo                       2356 non-null   object \n",
      " 14  floofer                     2356 non-null   object \n",
      " 15  pupper                      2356 non-null   object \n",
      " 16  puppo                       2356 non-null   object \n",
      "dtypes: float64(4), int64(3), object(10)\n",
      "memory usage: 313.0+ KB\n"
     ]
    }
   ],
   "source": [
    "# show a summary of the archive_df dataset\n",
    "archive_df.info()"
   ]
  },
  {
   "cell_type": "markdown",
   "id": "f12dc7f1",
   "metadata": {},
   "source": [
    "- the dataset have 2356 observations.\n",
    "- 17 columns.\n",
    "- no missing values.\n",
    "- The data types of the variables are divided in 4 float, 2 integer and 10 object."
   ]
  },
  {
   "cell_type": "code",
   "execution_count": 160,
   "id": "314c6fed",
   "metadata": {},
   "outputs": [
    {
     "data": {
      "text/html": [
       "<div>\n",
       "<style scoped>\n",
       "    .dataframe tbody tr th:only-of-type {\n",
       "        vertical-align: middle;\n",
       "    }\n",
       "\n",
       "    .dataframe tbody tr th {\n",
       "        vertical-align: top;\n",
       "    }\n",
       "\n",
       "    .dataframe thead th {\n",
       "        text-align: right;\n",
       "    }\n",
       "</style>\n",
       "<table border=\"1\" class=\"dataframe\">\n",
       "  <thead>\n",
       "    <tr style=\"text-align: right;\">\n",
       "      <th></th>\n",
       "      <th>tweet_id</th>\n",
       "      <th>in_reply_to_status_id</th>\n",
       "      <th>in_reply_to_user_id</th>\n",
       "      <th>retweeted_status_id</th>\n",
       "      <th>retweeted_status_user_id</th>\n",
       "      <th>rating_numerator</th>\n",
       "      <th>rating_denominator</th>\n",
       "    </tr>\n",
       "  </thead>\n",
       "  <tbody>\n",
       "    <tr>\n",
       "      <th>count</th>\n",
       "      <td>2.356000e+03</td>\n",
       "      <td>7.800000e+01</td>\n",
       "      <td>7.800000e+01</td>\n",
       "      <td>1.810000e+02</td>\n",
       "      <td>1.810000e+02</td>\n",
       "      <td>2356.000000</td>\n",
       "      <td>2356.000000</td>\n",
       "    </tr>\n",
       "    <tr>\n",
       "      <th>mean</th>\n",
       "      <td>7.427716e+17</td>\n",
       "      <td>7.455079e+17</td>\n",
       "      <td>2.014171e+16</td>\n",
       "      <td>7.720400e+17</td>\n",
       "      <td>1.241698e+16</td>\n",
       "      <td>13.126486</td>\n",
       "      <td>10.455433</td>\n",
       "    </tr>\n",
       "    <tr>\n",
       "      <th>std</th>\n",
       "      <td>6.856705e+16</td>\n",
       "      <td>7.582492e+16</td>\n",
       "      <td>1.252797e+17</td>\n",
       "      <td>6.236928e+16</td>\n",
       "      <td>9.599254e+16</td>\n",
       "      <td>45.876648</td>\n",
       "      <td>6.745237</td>\n",
       "    </tr>\n",
       "    <tr>\n",
       "      <th>min</th>\n",
       "      <td>6.660209e+17</td>\n",
       "      <td>6.658147e+17</td>\n",
       "      <td>1.185634e+07</td>\n",
       "      <td>6.661041e+17</td>\n",
       "      <td>7.832140e+05</td>\n",
       "      <td>0.000000</td>\n",
       "      <td>0.000000</td>\n",
       "    </tr>\n",
       "    <tr>\n",
       "      <th>25%</th>\n",
       "      <td>6.783989e+17</td>\n",
       "      <td>6.757419e+17</td>\n",
       "      <td>3.086374e+08</td>\n",
       "      <td>7.186315e+17</td>\n",
       "      <td>4.196984e+09</td>\n",
       "      <td>10.000000</td>\n",
       "      <td>10.000000</td>\n",
       "    </tr>\n",
       "    <tr>\n",
       "      <th>50%</th>\n",
       "      <td>7.196279e+17</td>\n",
       "      <td>7.038708e+17</td>\n",
       "      <td>4.196984e+09</td>\n",
       "      <td>7.804657e+17</td>\n",
       "      <td>4.196984e+09</td>\n",
       "      <td>11.000000</td>\n",
       "      <td>10.000000</td>\n",
       "    </tr>\n",
       "    <tr>\n",
       "      <th>75%</th>\n",
       "      <td>7.993373e+17</td>\n",
       "      <td>8.257804e+17</td>\n",
       "      <td>4.196984e+09</td>\n",
       "      <td>8.203146e+17</td>\n",
       "      <td>4.196984e+09</td>\n",
       "      <td>12.000000</td>\n",
       "      <td>10.000000</td>\n",
       "    </tr>\n",
       "    <tr>\n",
       "      <th>max</th>\n",
       "      <td>8.924206e+17</td>\n",
       "      <td>8.862664e+17</td>\n",
       "      <td>8.405479e+17</td>\n",
       "      <td>8.874740e+17</td>\n",
       "      <td>7.874618e+17</td>\n",
       "      <td>1776.000000</td>\n",
       "      <td>170.000000</td>\n",
       "    </tr>\n",
       "  </tbody>\n",
       "</table>\n",
       "</div>"
      ],
      "text/plain": [
       "           tweet_id  in_reply_to_status_id  in_reply_to_user_id  \\\n",
       "count  2.356000e+03           7.800000e+01         7.800000e+01   \n",
       "mean   7.427716e+17           7.455079e+17         2.014171e+16   \n",
       "std    6.856705e+16           7.582492e+16         1.252797e+17   \n",
       "min    6.660209e+17           6.658147e+17         1.185634e+07   \n",
       "25%    6.783989e+17           6.757419e+17         3.086374e+08   \n",
       "50%    7.196279e+17           7.038708e+17         4.196984e+09   \n",
       "75%    7.993373e+17           8.257804e+17         4.196984e+09   \n",
       "max    8.924206e+17           8.862664e+17         8.405479e+17   \n",
       "\n",
       "       retweeted_status_id  retweeted_status_user_id  rating_numerator  \\\n",
       "count         1.810000e+02              1.810000e+02       2356.000000   \n",
       "mean          7.720400e+17              1.241698e+16         13.126486   \n",
       "std           6.236928e+16              9.599254e+16         45.876648   \n",
       "min           6.661041e+17              7.832140e+05          0.000000   \n",
       "25%           7.186315e+17              4.196984e+09         10.000000   \n",
       "50%           7.804657e+17              4.196984e+09         11.000000   \n",
       "75%           8.203146e+17              4.196984e+09         12.000000   \n",
       "max           8.874740e+17              7.874618e+17       1776.000000   \n",
       "\n",
       "       rating_denominator  \n",
       "count         2356.000000  \n",
       "mean            10.455433  \n",
       "std              6.745237  \n",
       "min              0.000000  \n",
       "25%             10.000000  \n",
       "50%             10.000000  \n",
       "75%             10.000000  \n",
       "max            170.000000  "
      ]
     },
     "execution_count": 160,
     "metadata": {},
     "output_type": "execute_result"
    }
   ],
   "source": [
    "#show the statistical information\n",
    "archive_df.describe()"
   ]
  },
  {
   "cell_type": "code",
   "execution_count": 161,
   "id": "948bf79a",
   "metadata": {},
   "outputs": [
    {
     "data": {
      "text/plain": [
       "0"
      ]
     },
     "execution_count": 161,
     "metadata": {},
     "output_type": "execute_result"
    }
   ],
   "source": [
    "#show if there is any duplicated values\n",
    "archive_df.duplicated().sum()"
   ]
  },
  {
   "cell_type": "code",
   "execution_count": 162,
   "id": "e3d8faaf",
   "metadata": {},
   "outputs": [
    {
     "data": {
      "text/plain": [
       "tweet_id                         0\n",
       "in_reply_to_status_id         2278\n",
       "in_reply_to_user_id           2278\n",
       "timestamp                        0\n",
       "source                           0\n",
       "text                             0\n",
       "retweeted_status_id           2175\n",
       "retweeted_status_user_id      2175\n",
       "retweeted_status_timestamp    2175\n",
       "expanded_urls                   59\n",
       "rating_numerator                 0\n",
       "rating_denominator               0\n",
       "name                             0\n",
       "doggo                            0\n",
       "floofer                          0\n",
       "pupper                           0\n",
       "puppo                            0\n",
       "dtype: int64"
      ]
     },
     "execution_count": 162,
     "metadata": {},
     "output_type": "execute_result"
    }
   ],
   "source": [
    "# find if there is any missing values in all columns\n",
    "archive_df.isnull().sum()"
   ]
  },
  {
   "cell_type": "markdown",
   "id": "a4a57fd7",
   "metadata": {},
   "source": [
    "Quality: \n",
    "\n",
    "- 1 Null values recorded as None and NaN(missing values).\n",
    "- 2 tweet_id type is int64. \n",
    "- 3 convert timestamp to be datetime and rename the column to tweet_date.\n",
    "- 4 source mixed html tag. \n",
    "- 5 some columns that contain unnecessary data we need to delete it.\n",
    "    \n",
    "    \n",
    "    \n",
    "Tidiness: \n",
    "- 1 Extract doggo, floofer, pupper and puppo columns into new 'stages_of_dogs' column "
   ]
  },
  {
   "cell_type": "markdown",
   "id": "83fb8728",
   "metadata": {},
   "source": [
    "# Step2: Assessing Data | images_df Dataset"
   ]
  },
  {
   "cell_type": "code",
   "execution_count": 163,
   "id": "809073ab",
   "metadata": {},
   "outputs": [
    {
     "name": "stdout",
     "output_type": "stream",
     "text": [
      "<class 'pandas.core.frame.DataFrame'>\n",
      "RangeIndex: 2075 entries, 0 to 2074\n",
      "Data columns (total 12 columns):\n",
      " #   Column    Non-Null Count  Dtype  \n",
      "---  ------    --------------  -----  \n",
      " 0   tweet_id  2075 non-null   int64  \n",
      " 1   jpg_url   2075 non-null   object \n",
      " 2   img_num   2075 non-null   int64  \n",
      " 3   p1        2075 non-null   object \n",
      " 4   p1_conf   2075 non-null   float64\n",
      " 5   p1_dog    2075 non-null   bool   \n",
      " 6   p2        2075 non-null   object \n",
      " 7   p2_conf   2075 non-null   float64\n",
      " 8   p2_dog    2075 non-null   bool   \n",
      " 9   p3        2075 non-null   object \n",
      " 10  p3_conf   2075 non-null   float64\n",
      " 11  p3_dog    2075 non-null   bool   \n",
      "dtypes: bool(3), float64(3), int64(2), object(4)\n",
      "memory usage: 152.1+ KB\n"
     ]
    }
   ],
   "source": [
    " images_df.info()"
   ]
  },
  {
   "cell_type": "markdown",
   "id": "933d7b0c",
   "metadata": {},
   "source": [
    "- The dataset have 2356 observations.\n",
    "- 12 columns and with no missing values.\n",
    "- The data types of the variables are divided in 3 float, 2 integer,3 boolean and 4 object."
   ]
  },
  {
   "cell_type": "code",
   "execution_count": 164,
   "id": "735e6383",
   "metadata": {},
   "outputs": [
    {
     "data": {
      "text/html": [
       "<div>\n",
       "<style scoped>\n",
       "    .dataframe tbody tr th:only-of-type {\n",
       "        vertical-align: middle;\n",
       "    }\n",
       "\n",
       "    .dataframe tbody tr th {\n",
       "        vertical-align: top;\n",
       "    }\n",
       "\n",
       "    .dataframe thead th {\n",
       "        text-align: right;\n",
       "    }\n",
       "</style>\n",
       "<table border=\"1\" class=\"dataframe\">\n",
       "  <thead>\n",
       "    <tr style=\"text-align: right;\">\n",
       "      <th></th>\n",
       "      <th>tweet_id</th>\n",
       "      <th>img_num</th>\n",
       "      <th>p1_conf</th>\n",
       "      <th>p2_conf</th>\n",
       "      <th>p3_conf</th>\n",
       "    </tr>\n",
       "  </thead>\n",
       "  <tbody>\n",
       "    <tr>\n",
       "      <th>count</th>\n",
       "      <td>2.075000e+03</td>\n",
       "      <td>2075.000000</td>\n",
       "      <td>2075.000000</td>\n",
       "      <td>2.075000e+03</td>\n",
       "      <td>2.075000e+03</td>\n",
       "    </tr>\n",
       "    <tr>\n",
       "      <th>mean</th>\n",
       "      <td>7.384514e+17</td>\n",
       "      <td>1.203855</td>\n",
       "      <td>0.594548</td>\n",
       "      <td>1.345886e-01</td>\n",
       "      <td>6.032417e-02</td>\n",
       "    </tr>\n",
       "    <tr>\n",
       "      <th>std</th>\n",
       "      <td>6.785203e+16</td>\n",
       "      <td>0.561875</td>\n",
       "      <td>0.271174</td>\n",
       "      <td>1.006657e-01</td>\n",
       "      <td>5.090593e-02</td>\n",
       "    </tr>\n",
       "    <tr>\n",
       "      <th>min</th>\n",
       "      <td>6.660209e+17</td>\n",
       "      <td>1.000000</td>\n",
       "      <td>0.044333</td>\n",
       "      <td>1.011300e-08</td>\n",
       "      <td>1.740170e-10</td>\n",
       "    </tr>\n",
       "    <tr>\n",
       "      <th>25%</th>\n",
       "      <td>6.764835e+17</td>\n",
       "      <td>1.000000</td>\n",
       "      <td>0.364412</td>\n",
       "      <td>5.388625e-02</td>\n",
       "      <td>1.622240e-02</td>\n",
       "    </tr>\n",
       "    <tr>\n",
       "      <th>50%</th>\n",
       "      <td>7.119988e+17</td>\n",
       "      <td>1.000000</td>\n",
       "      <td>0.588230</td>\n",
       "      <td>1.181810e-01</td>\n",
       "      <td>4.944380e-02</td>\n",
       "    </tr>\n",
       "    <tr>\n",
       "      <th>75%</th>\n",
       "      <td>7.932034e+17</td>\n",
       "      <td>1.000000</td>\n",
       "      <td>0.843855</td>\n",
       "      <td>1.955655e-01</td>\n",
       "      <td>9.180755e-02</td>\n",
       "    </tr>\n",
       "    <tr>\n",
       "      <th>max</th>\n",
       "      <td>8.924206e+17</td>\n",
       "      <td>4.000000</td>\n",
       "      <td>1.000000</td>\n",
       "      <td>4.880140e-01</td>\n",
       "      <td>2.734190e-01</td>\n",
       "    </tr>\n",
       "  </tbody>\n",
       "</table>\n",
       "</div>"
      ],
      "text/plain": [
       "           tweet_id      img_num      p1_conf       p2_conf       p3_conf\n",
       "count  2.075000e+03  2075.000000  2075.000000  2.075000e+03  2.075000e+03\n",
       "mean   7.384514e+17     1.203855     0.594548  1.345886e-01  6.032417e-02\n",
       "std    6.785203e+16     0.561875     0.271174  1.006657e-01  5.090593e-02\n",
       "min    6.660209e+17     1.000000     0.044333  1.011300e-08  1.740170e-10\n",
       "25%    6.764835e+17     1.000000     0.364412  5.388625e-02  1.622240e-02\n",
       "50%    7.119988e+17     1.000000     0.588230  1.181810e-01  4.944380e-02\n",
       "75%    7.932034e+17     1.000000     0.843855  1.955655e-01  9.180755e-02\n",
       "max    8.924206e+17     4.000000     1.000000  4.880140e-01  2.734190e-01"
      ]
     },
     "execution_count": 164,
     "metadata": {},
     "output_type": "execute_result"
    }
   ],
   "source": [
    "#show the statistical information\n",
    "images_df.describe()"
   ]
  },
  {
   "cell_type": "code",
   "execution_count": 165,
   "id": "bd468aa8",
   "metadata": {},
   "outputs": [
    {
     "data": {
      "text/plain": [
       "0"
      ]
     },
     "execution_count": 165,
     "metadata": {},
     "output_type": "execute_result"
    }
   ],
   "source": [
    "#show if there is any duplicated values\n",
    "images_df.duplicated().sum()"
   ]
  },
  {
   "cell_type": "code",
   "execution_count": 166,
   "id": "0bc4a967",
   "metadata": {},
   "outputs": [
    {
     "data": {
      "text/plain": [
       "tweet_id    0\n",
       "jpg_url     0\n",
       "img_num     0\n",
       "p1          0\n",
       "p1_conf     0\n",
       "p1_dog      0\n",
       "p2          0\n",
       "p2_conf     0\n",
       "p2_dog      0\n",
       "p3          0\n",
       "p3_conf     0\n",
       "p3_dog      0\n",
       "dtype: int64"
      ]
     },
     "execution_count": 166,
     "metadata": {},
     "output_type": "execute_result"
    }
   ],
   "source": [
    "# find if there is any missing values in all columns\n",
    "images_df.isnull().sum()"
   ]
  },
  {
   "cell_type": "code",
   "execution_count": 167,
   "id": "3b162191",
   "metadata": {},
   "outputs": [
    {
     "data": {
      "text/plain": [
       "golden_retriever      150\n",
       "Labrador_retriever    100\n",
       "Pembroke               89\n",
       "Chihuahua              83\n",
       "pug                    57\n",
       "                     ... \n",
       "sandbar                 1\n",
       "loupe                   1\n",
       "remote_control          1\n",
       "Egyptian_cat            1\n",
       "starfish                1\n",
       "Name: p1, Length: 378, dtype: int64"
      ]
     },
     "execution_count": 167,
     "metadata": {},
     "output_type": "execute_result"
    }
   ],
   "source": [
    "images_df['p1'].value_counts()"
   ]
  },
  {
   "cell_type": "code",
   "execution_count": 168,
   "id": "232c9af9",
   "metadata": {},
   "outputs": [
    {
     "data": {
      "text/plain": [
       "Labrador_retriever    104\n",
       "golden_retriever       92\n",
       "Cardigan               73\n",
       "Chihuahua              44\n",
       "Pomeranian             42\n",
       "                     ... \n",
       "brown_bear              1\n",
       "rule                    1\n",
       "dock                    1\n",
       "hair_slide              1\n",
       "tree_frog               1\n",
       "Name: p2, Length: 405, dtype: int64"
      ]
     },
     "execution_count": 168,
     "metadata": {},
     "output_type": "execute_result"
    }
   ],
   "source": [
    "images_df['p2'].value_counts()"
   ]
  },
  {
   "cell_type": "code",
   "execution_count": 169,
   "id": "8d34ac42",
   "metadata": {},
   "outputs": [
    {
     "data": {
      "text/plain": [
       "Labrador_retriever    79\n",
       "Chihuahua             58\n",
       "golden_retriever      48\n",
       "Eskimo_dog            38\n",
       "kelpie                35\n",
       "                      ..\n",
       "chickadee              1\n",
       "canoe                  1\n",
       "wombat                 1\n",
       "acorn                  1\n",
       "pot                    1\n",
       "Name: p3, Length: 408, dtype: int64"
      ]
     },
     "execution_count": 169,
     "metadata": {},
     "output_type": "execute_result"
    }
   ],
   "source": [
    "images_df['p3'].value_counts()"
   ]
  },
  {
   "cell_type": "markdown",
   "id": "0511024f",
   "metadata": {},
   "source": [
    "Quality: \n",
    "\n",
    "- 1 tweet_id should be string.\n",
    "- 2 The types of dogs in columns p1, p2, and p3 had some uppercase \\ lowercase letters\n",
    "\n",
    "\n",
    "Tidiness: \n",
    "\n",
    "- 1 extract breed of dog from columns p, p_conf and p_dog."
   ]
  },
  {
   "cell_type": "markdown",
   "id": "20f91efa",
   "metadata": {},
   "source": [
    "# Step2: Assessing Data | tweet_df Dataset"
   ]
  },
  {
   "cell_type": "code",
   "execution_count": 170,
   "id": "d0d53105",
   "metadata": {},
   "outputs": [
    {
     "name": "stdout",
     "output_type": "stream",
     "text": [
      "<class 'pandas.core.frame.DataFrame'>\n",
      "RangeIndex: 2354 entries, 0 to 2353\n",
      "Data columns (total 31 columns):\n",
      " #   Column                         Non-Null Count  Dtype              \n",
      "---  ------                         --------------  -----              \n",
      " 0   created_at                     2354 non-null   datetime64[ns, UTC]\n",
      " 1   id                             2354 non-null   int64              \n",
      " 2   id_str                         2354 non-null   int64              \n",
      " 3   full_text                      2354 non-null   object             \n",
      " 4   truncated                      2354 non-null   bool               \n",
      " 5   display_text_range             2354 non-null   object             \n",
      " 6   entities                       2354 non-null   object             \n",
      " 7   extended_entities              2073 non-null   object             \n",
      " 8   source                         2354 non-null   object             \n",
      " 9   in_reply_to_status_id          78 non-null     float64            \n",
      " 10  in_reply_to_status_id_str      78 non-null     float64            \n",
      " 11  in_reply_to_user_id            78 non-null     float64            \n",
      " 12  in_reply_to_user_id_str        78 non-null     float64            \n",
      " 13  in_reply_to_screen_name        78 non-null     object             \n",
      " 14  user                           2354 non-null   object             \n",
      " 15  geo                            0 non-null      float64            \n",
      " 16  coordinates                    0 non-null      float64            \n",
      " 17  place                          1 non-null      object             \n",
      " 18  contributors                   0 non-null      float64            \n",
      " 19  is_quote_status                2354 non-null   bool               \n",
      " 20  retweet_count                  2354 non-null   int64              \n",
      " 21  favorite_count                 2354 non-null   int64              \n",
      " 22  favorited                      2354 non-null   bool               \n",
      " 23  retweeted                      2354 non-null   bool               \n",
      " 24  possibly_sensitive             2211 non-null   float64            \n",
      " 25  possibly_sensitive_appealable  2211 non-null   float64            \n",
      " 26  lang                           2354 non-null   object             \n",
      " 27  retweeted_status               179 non-null    object             \n",
      " 28  quoted_status_id               29 non-null     float64            \n",
      " 29  quoted_status_id_str           29 non-null     float64            \n",
      " 30  quoted_status                  28 non-null     object             \n",
      "dtypes: bool(4), datetime64[ns, UTC](1), float64(11), int64(4), object(11)\n",
      "memory usage: 505.9+ KB\n"
     ]
    }
   ],
   "source": [
    "tweet_df.info()"
   ]
  },
  {
   "cell_type": "markdown",
   "id": "7d4266c5",
   "metadata": {},
   "source": [
    "- The dataset have 2354 observations\n",
    "- 31 columns and with no missing values.\n",
    "- The data types of the variables are divided in 11 float, 4 integer,4 boolean, 1 datetime64 and 11 object.\n",
    "- we have 179 tweets that are retweeted need to drop"
   ]
  },
  {
   "cell_type": "code",
   "execution_count": 171,
   "id": "26cfb2f6",
   "metadata": {},
   "outputs": [
    {
     "data": {
      "text/plain": [
       "created_at                          0\n",
       "id                                  0\n",
       "id_str                              0\n",
       "full_text                           0\n",
       "truncated                           0\n",
       "display_text_range                  0\n",
       "entities                            0\n",
       "extended_entities                 281\n",
       "source                              0\n",
       "in_reply_to_status_id            2276\n",
       "in_reply_to_status_id_str        2276\n",
       "in_reply_to_user_id              2276\n",
       "in_reply_to_user_id_str          2276\n",
       "in_reply_to_screen_name          2276\n",
       "user                                0\n",
       "geo                              2354\n",
       "coordinates                      2354\n",
       "place                            2353\n",
       "contributors                     2354\n",
       "is_quote_status                     0\n",
       "retweet_count                       0\n",
       "favorite_count                      0\n",
       "favorited                           0\n",
       "retweeted                           0\n",
       "possibly_sensitive                143\n",
       "possibly_sensitive_appealable     143\n",
       "lang                                0\n",
       "retweeted_status                 2175\n",
       "quoted_status_id                 2325\n",
       "quoted_status_id_str             2325\n",
       "quoted_status                    2326\n",
       "dtype: int64"
      ]
     },
     "execution_count": 171,
     "metadata": {},
     "output_type": "execute_result"
    }
   ],
   "source": [
    "# cheek null value in all columns\n",
    "tweet_df.isnull().sum()"
   ]
  },
  {
   "cell_type": "markdown",
   "id": "e5bcd6e9",
   "metadata": {},
   "source": [
    "Quality: \n",
    "- 1 Missing values in some cloumns \n",
    "- 2 id column should be named 'tweet_id' as the others dataset, and the dtype should be string.\n",
    "- 3 sourse data type should be category \n",
    "- 4 We have some columns that contain unnecessary data. \n",
    "- 5 source mixed html tag ,Rewrite the tweet source, from iphone ,web...etc\n"
   ]
  },
  {
   "cell_type": "markdown",
   "id": "40b12a1e",
   "metadata": {},
   "source": [
    "# 3- Cleaning Data | archive_df_copy"
   ]
  },
  {
   "cell_type": "code",
   "execution_count": 172,
   "id": "32cca6e4",
   "metadata": {},
   "outputs": [
    {
     "data": {
      "text/html": [
       "<div>\n",
       "<style scoped>\n",
       "    .dataframe tbody tr th:only-of-type {\n",
       "        vertical-align: middle;\n",
       "    }\n",
       "\n",
       "    .dataframe tbody tr th {\n",
       "        vertical-align: top;\n",
       "    }\n",
       "\n",
       "    .dataframe thead th {\n",
       "        text-align: right;\n",
       "    }\n",
       "</style>\n",
       "<table border=\"1\" class=\"dataframe\">\n",
       "  <thead>\n",
       "    <tr style=\"text-align: right;\">\n",
       "      <th></th>\n",
       "      <th>tweet_id</th>\n",
       "      <th>in_reply_to_status_id</th>\n",
       "      <th>in_reply_to_user_id</th>\n",
       "      <th>timestamp</th>\n",
       "      <th>source</th>\n",
       "      <th>text</th>\n",
       "      <th>retweeted_status_id</th>\n",
       "      <th>retweeted_status_user_id</th>\n",
       "      <th>retweeted_status_timestamp</th>\n",
       "      <th>expanded_urls</th>\n",
       "      <th>rating_numerator</th>\n",
       "      <th>rating_denominator</th>\n",
       "      <th>name</th>\n",
       "      <th>doggo</th>\n",
       "      <th>floofer</th>\n",
       "      <th>pupper</th>\n",
       "      <th>puppo</th>\n",
       "    </tr>\n",
       "  </thead>\n",
       "  <tbody>\n",
       "    <tr>\n",
       "      <th>0</th>\n",
       "      <td>892420643555336193</td>\n",
       "      <td>NaN</td>\n",
       "      <td>NaN</td>\n",
       "      <td>2017-08-01 16:23:56 +0000</td>\n",
       "      <td>&lt;a href=\"http://twitter.com/download/iphone\" r...</td>\n",
       "      <td>This is Phineas. He's a mystical boy. Only eve...</td>\n",
       "      <td>NaN</td>\n",
       "      <td>NaN</td>\n",
       "      <td>NaN</td>\n",
       "      <td>https://twitter.com/dog_rates/status/892420643...</td>\n",
       "      <td>13</td>\n",
       "      <td>10</td>\n",
       "      <td>Phineas</td>\n",
       "      <td>None</td>\n",
       "      <td>None</td>\n",
       "      <td>None</td>\n",
       "      <td>None</td>\n",
       "    </tr>\n",
       "    <tr>\n",
       "      <th>1</th>\n",
       "      <td>892177421306343426</td>\n",
       "      <td>NaN</td>\n",
       "      <td>NaN</td>\n",
       "      <td>2017-08-01 00:17:27 +0000</td>\n",
       "      <td>&lt;a href=\"http://twitter.com/download/iphone\" r...</td>\n",
       "      <td>This is Tilly. She's just checking pup on you....</td>\n",
       "      <td>NaN</td>\n",
       "      <td>NaN</td>\n",
       "      <td>NaN</td>\n",
       "      <td>https://twitter.com/dog_rates/status/892177421...</td>\n",
       "      <td>13</td>\n",
       "      <td>10</td>\n",
       "      <td>Tilly</td>\n",
       "      <td>None</td>\n",
       "      <td>None</td>\n",
       "      <td>None</td>\n",
       "      <td>None</td>\n",
       "    </tr>\n",
       "    <tr>\n",
       "      <th>2</th>\n",
       "      <td>891815181378084864</td>\n",
       "      <td>NaN</td>\n",
       "      <td>NaN</td>\n",
       "      <td>2017-07-31 00:18:03 +0000</td>\n",
       "      <td>&lt;a href=\"http://twitter.com/download/iphone\" r...</td>\n",
       "      <td>This is Archie. He is a rare Norwegian Pouncin...</td>\n",
       "      <td>NaN</td>\n",
       "      <td>NaN</td>\n",
       "      <td>NaN</td>\n",
       "      <td>https://twitter.com/dog_rates/status/891815181...</td>\n",
       "      <td>12</td>\n",
       "      <td>10</td>\n",
       "      <td>Archie</td>\n",
       "      <td>None</td>\n",
       "      <td>None</td>\n",
       "      <td>None</td>\n",
       "      <td>None</td>\n",
       "    </tr>\n",
       "  </tbody>\n",
       "</table>\n",
       "</div>"
      ],
      "text/plain": [
       "             tweet_id  in_reply_to_status_id  in_reply_to_user_id  \\\n",
       "0  892420643555336193                    NaN                  NaN   \n",
       "1  892177421306343426                    NaN                  NaN   \n",
       "2  891815181378084864                    NaN                  NaN   \n",
       "\n",
       "                   timestamp  \\\n",
       "0  2017-08-01 16:23:56 +0000   \n",
       "1  2017-08-01 00:17:27 +0000   \n",
       "2  2017-07-31 00:18:03 +0000   \n",
       "\n",
       "                                              source  \\\n",
       "0  <a href=\"http://twitter.com/download/iphone\" r...   \n",
       "1  <a href=\"http://twitter.com/download/iphone\" r...   \n",
       "2  <a href=\"http://twitter.com/download/iphone\" r...   \n",
       "\n",
       "                                                text  retweeted_status_id  \\\n",
       "0  This is Phineas. He's a mystical boy. Only eve...                  NaN   \n",
       "1  This is Tilly. She's just checking pup on you....                  NaN   \n",
       "2  This is Archie. He is a rare Norwegian Pouncin...                  NaN   \n",
       "\n",
       "   retweeted_status_user_id retweeted_status_timestamp  \\\n",
       "0                       NaN                        NaN   \n",
       "1                       NaN                        NaN   \n",
       "2                       NaN                        NaN   \n",
       "\n",
       "                                       expanded_urls  rating_numerator  \\\n",
       "0  https://twitter.com/dog_rates/status/892420643...                13   \n",
       "1  https://twitter.com/dog_rates/status/892177421...                13   \n",
       "2  https://twitter.com/dog_rates/status/891815181...                12   \n",
       "\n",
       "   rating_denominator     name doggo floofer pupper puppo  \n",
       "0                  10  Phineas  None    None   None  None  \n",
       "1                  10    Tilly  None    None   None  None  \n",
       "2                  10   Archie  None    None   None  None  "
      ]
     },
     "execution_count": 172,
     "metadata": {},
     "output_type": "execute_result"
    }
   ],
   "source": [
    "#Create a copy of archive_df dataframe\n",
    "archive_df_copy = archive_df.copy()\n",
    "archive_df_copy.head(3)"
   ]
  },
  {
   "cell_type": "markdown",
   "id": "1d1c016d",
   "metadata": {},
   "source": [
    "# Quality Issues:"
   ]
  },
  {
   "cell_type": "markdown",
   "id": "21448117",
   "metadata": {},
   "source": [
    "## 1- Defin"
   ]
  },
  {
   "cell_type": "markdown",
   "id": "e546ab82",
   "metadata": {},
   "source": [
    "chang coulmns datatype tweet_id, timestamp "
   ]
  },
  {
   "cell_type": "markdown",
   "id": "7130ee83",
   "metadata": {},
   "source": [
    "# 2- Code"
   ]
  },
  {
   "cell_type": "code",
   "execution_count": 173,
   "id": "1f38675c",
   "metadata": {},
   "outputs": [],
   "source": [
    "#change coulmn tweet_id datatype to str\n",
    "archive_df_copy['tweet_id'] = archive_df_copy['tweet_id'].astype(str)"
   ]
  },
  {
   "cell_type": "code",
   "execution_count": 174,
   "id": "9c906780",
   "metadata": {},
   "outputs": [],
   "source": [
    "#convert timestamp data type to datetime and rename the column into tweet_date\n",
    "archive_df_copy.timestamp = pd.to_datetime(archive_df_copy['timestamp'])\n",
    "archive_df_copy.rename(columns={\"timestamp\":'tweet_date'},inplace=True)"
   ]
  },
  {
   "cell_type": "markdown",
   "id": "18e230c9",
   "metadata": {},
   "source": [
    "# 3-Test"
   ]
  },
  {
   "cell_type": "code",
   "execution_count": 175,
   "id": "4866cc5d",
   "metadata": {},
   "outputs": [
    {
     "name": "stdout",
     "output_type": "stream",
     "text": [
      "object\n"
     ]
    }
   ],
   "source": [
    "print (archive_df_copy['tweet_id'].dtypes)"
   ]
  },
  {
   "cell_type": "code",
   "execution_count": 176,
   "id": "cccf5d76",
   "metadata": {},
   "outputs": [
    {
     "name": "stdout",
     "output_type": "stream",
     "text": [
      "datetime64[ns, UTC]\n"
     ]
    }
   ],
   "source": [
    "print (archive_df_copy['tweet_date'].dtypes)"
   ]
  },
  {
   "cell_type": "code",
   "execution_count": 177,
   "id": "6b90f2c9",
   "metadata": {},
   "outputs": [
    {
     "data": {
      "text/html": [
       "<div>\n",
       "<style scoped>\n",
       "    .dataframe tbody tr th:only-of-type {\n",
       "        vertical-align: middle;\n",
       "    }\n",
       "\n",
       "    .dataframe tbody tr th {\n",
       "        vertical-align: top;\n",
       "    }\n",
       "\n",
       "    .dataframe thead th {\n",
       "        text-align: right;\n",
       "    }\n",
       "</style>\n",
       "<table border=\"1\" class=\"dataframe\">\n",
       "  <thead>\n",
       "    <tr style=\"text-align: right;\">\n",
       "      <th></th>\n",
       "      <th>tweet_id</th>\n",
       "      <th>in_reply_to_status_id</th>\n",
       "      <th>in_reply_to_user_id</th>\n",
       "      <th>tweet_date</th>\n",
       "      <th>source</th>\n",
       "      <th>text</th>\n",
       "      <th>retweeted_status_id</th>\n",
       "      <th>retweeted_status_user_id</th>\n",
       "      <th>retweeted_status_timestamp</th>\n",
       "      <th>expanded_urls</th>\n",
       "      <th>rating_numerator</th>\n",
       "      <th>rating_denominator</th>\n",
       "      <th>name</th>\n",
       "      <th>doggo</th>\n",
       "      <th>floofer</th>\n",
       "      <th>pupper</th>\n",
       "      <th>puppo</th>\n",
       "    </tr>\n",
       "  </thead>\n",
       "  <tbody>\n",
       "    <tr>\n",
       "      <th>0</th>\n",
       "      <td>892420643555336193</td>\n",
       "      <td>NaN</td>\n",
       "      <td>NaN</td>\n",
       "      <td>2017-08-01 16:23:56+00:00</td>\n",
       "      <td>&lt;a href=\"http://twitter.com/download/iphone\" r...</td>\n",
       "      <td>This is Phineas. He's a mystical boy. Only eve...</td>\n",
       "      <td>NaN</td>\n",
       "      <td>NaN</td>\n",
       "      <td>NaN</td>\n",
       "      <td>https://twitter.com/dog_rates/status/892420643...</td>\n",
       "      <td>13</td>\n",
       "      <td>10</td>\n",
       "      <td>Phineas</td>\n",
       "      <td>None</td>\n",
       "      <td>None</td>\n",
       "      <td>None</td>\n",
       "      <td>None</td>\n",
       "    </tr>\n",
       "    <tr>\n",
       "      <th>1</th>\n",
       "      <td>892177421306343426</td>\n",
       "      <td>NaN</td>\n",
       "      <td>NaN</td>\n",
       "      <td>2017-08-01 00:17:27+00:00</td>\n",
       "      <td>&lt;a href=\"http://twitter.com/download/iphone\" r...</td>\n",
       "      <td>This is Tilly. She's just checking pup on you....</td>\n",
       "      <td>NaN</td>\n",
       "      <td>NaN</td>\n",
       "      <td>NaN</td>\n",
       "      <td>https://twitter.com/dog_rates/status/892177421...</td>\n",
       "      <td>13</td>\n",
       "      <td>10</td>\n",
       "      <td>Tilly</td>\n",
       "      <td>None</td>\n",
       "      <td>None</td>\n",
       "      <td>None</td>\n",
       "      <td>None</td>\n",
       "    </tr>\n",
       "    <tr>\n",
       "      <th>2</th>\n",
       "      <td>891815181378084864</td>\n",
       "      <td>NaN</td>\n",
       "      <td>NaN</td>\n",
       "      <td>2017-07-31 00:18:03+00:00</td>\n",
       "      <td>&lt;a href=\"http://twitter.com/download/iphone\" r...</td>\n",
       "      <td>This is Archie. He is a rare Norwegian Pouncin...</td>\n",
       "      <td>NaN</td>\n",
       "      <td>NaN</td>\n",
       "      <td>NaN</td>\n",
       "      <td>https://twitter.com/dog_rates/status/891815181...</td>\n",
       "      <td>12</td>\n",
       "      <td>10</td>\n",
       "      <td>Archie</td>\n",
       "      <td>None</td>\n",
       "      <td>None</td>\n",
       "      <td>None</td>\n",
       "      <td>None</td>\n",
       "    </tr>\n",
       "  </tbody>\n",
       "</table>\n",
       "</div>"
      ],
      "text/plain": [
       "             tweet_id  in_reply_to_status_id  in_reply_to_user_id  \\\n",
       "0  892420643555336193                    NaN                  NaN   \n",
       "1  892177421306343426                    NaN                  NaN   \n",
       "2  891815181378084864                    NaN                  NaN   \n",
       "\n",
       "                 tweet_date  \\\n",
       "0 2017-08-01 16:23:56+00:00   \n",
       "1 2017-08-01 00:17:27+00:00   \n",
       "2 2017-07-31 00:18:03+00:00   \n",
       "\n",
       "                                              source  \\\n",
       "0  <a href=\"http://twitter.com/download/iphone\" r...   \n",
       "1  <a href=\"http://twitter.com/download/iphone\" r...   \n",
       "2  <a href=\"http://twitter.com/download/iphone\" r...   \n",
       "\n",
       "                                                text  retweeted_status_id  \\\n",
       "0  This is Phineas. He's a mystical boy. Only eve...                  NaN   \n",
       "1  This is Tilly. She's just checking pup on you....                  NaN   \n",
       "2  This is Archie. He is a rare Norwegian Pouncin...                  NaN   \n",
       "\n",
       "   retweeted_status_user_id retweeted_status_timestamp  \\\n",
       "0                       NaN                        NaN   \n",
       "1                       NaN                        NaN   \n",
       "2                       NaN                        NaN   \n",
       "\n",
       "                                       expanded_urls  rating_numerator  \\\n",
       "0  https://twitter.com/dog_rates/status/892420643...                13   \n",
       "1  https://twitter.com/dog_rates/status/892177421...                13   \n",
       "2  https://twitter.com/dog_rates/status/891815181...                12   \n",
       "\n",
       "   rating_denominator     name doggo floofer pupper puppo  \n",
       "0                  10  Phineas  None    None   None  None  \n",
       "1                  10    Tilly  None    None   None  None  \n",
       "2                  10   Archie  None    None   None  None  "
      ]
     },
     "execution_count": 177,
     "metadata": {},
     "output_type": "execute_result"
    }
   ],
   "source": [
    "# test if timestamp changed to tweet_date\n",
    "archive_df_copy.head(3)"
   ]
  },
  {
   "cell_type": "markdown",
   "id": "c2c29cd3",
   "metadata": {},
   "source": [
    "# 1- Defin"
   ]
  },
  {
   "cell_type": "markdown",
   "id": "cb8a9efc",
   "metadata": {},
   "source": [
    "drop unnessary columns "
   ]
  },
  {
   "cell_type": "markdown",
   "id": "04654d40",
   "metadata": {},
   "source": [
    "# 2- Code"
   ]
  },
  {
   "cell_type": "code",
   "execution_count": 178,
   "id": "5d9b7c0a",
   "metadata": {},
   "outputs": [],
   "source": [
    "drop_columns = ['in_reply_to_status_id','in_reply_to_user_id','source','expanded_urls','rating_numerator','rating_denominator']\n",
    "archive_df_copy.drop(drop_columns, axis=1,inplace = True)"
   ]
  },
  {
   "cell_type": "markdown",
   "id": "783f8dbd",
   "metadata": {},
   "source": [
    "# 3- Test"
   ]
  },
  {
   "cell_type": "code",
   "execution_count": 179,
   "id": "5ce73256",
   "metadata": {},
   "outputs": [
    {
     "data": {
      "text/html": [
       "<div>\n",
       "<style scoped>\n",
       "    .dataframe tbody tr th:only-of-type {\n",
       "        vertical-align: middle;\n",
       "    }\n",
       "\n",
       "    .dataframe tbody tr th {\n",
       "        vertical-align: top;\n",
       "    }\n",
       "\n",
       "    .dataframe thead th {\n",
       "        text-align: right;\n",
       "    }\n",
       "</style>\n",
       "<table border=\"1\" class=\"dataframe\">\n",
       "  <thead>\n",
       "    <tr style=\"text-align: right;\">\n",
       "      <th></th>\n",
       "      <th>tweet_id</th>\n",
       "      <th>tweet_date</th>\n",
       "      <th>text</th>\n",
       "      <th>retweeted_status_id</th>\n",
       "      <th>retweeted_status_user_id</th>\n",
       "      <th>retweeted_status_timestamp</th>\n",
       "      <th>name</th>\n",
       "      <th>doggo</th>\n",
       "      <th>floofer</th>\n",
       "      <th>pupper</th>\n",
       "      <th>puppo</th>\n",
       "    </tr>\n",
       "  </thead>\n",
       "  <tbody>\n",
       "    <tr>\n",
       "      <th>0</th>\n",
       "      <td>892420643555336193</td>\n",
       "      <td>2017-08-01 16:23:56+00:00</td>\n",
       "      <td>This is Phineas. He's a mystical boy. Only eve...</td>\n",
       "      <td>NaN</td>\n",
       "      <td>NaN</td>\n",
       "      <td>NaN</td>\n",
       "      <td>Phineas</td>\n",
       "      <td>None</td>\n",
       "      <td>None</td>\n",
       "      <td>None</td>\n",
       "      <td>None</td>\n",
       "    </tr>\n",
       "    <tr>\n",
       "      <th>1</th>\n",
       "      <td>892177421306343426</td>\n",
       "      <td>2017-08-01 00:17:27+00:00</td>\n",
       "      <td>This is Tilly. She's just checking pup on you....</td>\n",
       "      <td>NaN</td>\n",
       "      <td>NaN</td>\n",
       "      <td>NaN</td>\n",
       "      <td>Tilly</td>\n",
       "      <td>None</td>\n",
       "      <td>None</td>\n",
       "      <td>None</td>\n",
       "      <td>None</td>\n",
       "    </tr>\n",
       "    <tr>\n",
       "      <th>2</th>\n",
       "      <td>891815181378084864</td>\n",
       "      <td>2017-07-31 00:18:03+00:00</td>\n",
       "      <td>This is Archie. He is a rare Norwegian Pouncin...</td>\n",
       "      <td>NaN</td>\n",
       "      <td>NaN</td>\n",
       "      <td>NaN</td>\n",
       "      <td>Archie</td>\n",
       "      <td>None</td>\n",
       "      <td>None</td>\n",
       "      <td>None</td>\n",
       "      <td>None</td>\n",
       "    </tr>\n",
       "  </tbody>\n",
       "</table>\n",
       "</div>"
      ],
      "text/plain": [
       "             tweet_id                tweet_date  \\\n",
       "0  892420643555336193 2017-08-01 16:23:56+00:00   \n",
       "1  892177421306343426 2017-08-01 00:17:27+00:00   \n",
       "2  891815181378084864 2017-07-31 00:18:03+00:00   \n",
       "\n",
       "                                                text  retweeted_status_id  \\\n",
       "0  This is Phineas. He's a mystical boy. Only eve...                  NaN   \n",
       "1  This is Tilly. She's just checking pup on you....                  NaN   \n",
       "2  This is Archie. He is a rare Norwegian Pouncin...                  NaN   \n",
       "\n",
       "   retweeted_status_user_id retweeted_status_timestamp     name doggo floofer  \\\n",
       "0                       NaN                        NaN  Phineas  None    None   \n",
       "1                       NaN                        NaN    Tilly  None    None   \n",
       "2                       NaN                        NaN   Archie  None    None   \n",
       "\n",
       "  pupper puppo  \n",
       "0   None  None  \n",
       "1   None  None  \n",
       "2   None  None  "
      ]
     },
     "execution_count": 179,
     "metadata": {},
     "output_type": "execute_result"
    }
   ],
   "source": [
    "#test if coulmns dropped\n",
    "archive_df_copy.head(3)"
   ]
  },
  {
   "cell_type": "markdown",
   "id": "68767837",
   "metadata": {},
   "source": [
    "# Tidiness Isuue"
   ]
  },
  {
   "cell_type": "markdown",
   "id": "a491ad98",
   "metadata": {},
   "source": [
    "## 1- Defin"
   ]
  },
  {
   "cell_type": "markdown",
   "id": "5a4482d0",
   "metadata": {},
   "source": [
    " Extract doggo, floofer, pupper and puppo columns into new 'stages_of_dogs' column "
   ]
  },
  {
   "cell_type": "markdown",
   "id": "ccc99f0a",
   "metadata": {},
   "source": [
    "# 2- code"
   ]
  },
  {
   "cell_type": "code",
   "execution_count": 180,
   "id": "ef8e4456",
   "metadata": {},
   "outputs": [],
   "source": [
    "# Extract doggo, floofer, pupper and puppo columns into new 'stages_of_dogs' column \n",
    "archive_df_copy['stages_of_dogs'] = archive_df_copy['text'].str.extract('(doggo|floofer|pupper|puppo)')"
   ]
  },
  {
   "cell_type": "code",
   "execution_count": 181,
   "id": "d63aad00",
   "metadata": {},
   "outputs": [],
   "source": [
    "# Drop doggo, floofer, pupper, and puppo columns\n",
    "archive_df_copy = archive_df_copy.drop(['doggo', 'floofer', 'pupper', 'puppo'], axis=1)"
   ]
  },
  {
   "cell_type": "markdown",
   "id": "dd5d2510",
   "metadata": {},
   "source": [
    "# 3- Test"
   ]
  },
  {
   "cell_type": "code",
   "execution_count": 182,
   "id": "2aea0f33",
   "metadata": {},
   "outputs": [
    {
     "data": {
      "text/plain": [
       "pupper     265\n",
       "doggo       93\n",
       "puppo       37\n",
       "floofer      4\n",
       "Name: stages_of_dogs, dtype: int64"
      ]
     },
     "execution_count": 182,
     "metadata": {},
     "output_type": "execute_result"
    }
   ],
   "source": [
    "archive_df_copy['stages_of_dogs'].value_counts()"
   ]
  },
  {
   "cell_type": "code",
   "execution_count": 183,
   "id": "020e687b",
   "metadata": {},
   "outputs": [
    {
     "data": {
      "text/html": [
       "<div>\n",
       "<style scoped>\n",
       "    .dataframe tbody tr th:only-of-type {\n",
       "        vertical-align: middle;\n",
       "    }\n",
       "\n",
       "    .dataframe tbody tr th {\n",
       "        vertical-align: top;\n",
       "    }\n",
       "\n",
       "    .dataframe thead th {\n",
       "        text-align: right;\n",
       "    }\n",
       "</style>\n",
       "<table border=\"1\" class=\"dataframe\">\n",
       "  <thead>\n",
       "    <tr style=\"text-align: right;\">\n",
       "      <th></th>\n",
       "      <th>tweet_id</th>\n",
       "      <th>tweet_date</th>\n",
       "      <th>text</th>\n",
       "      <th>retweeted_status_id</th>\n",
       "      <th>retweeted_status_user_id</th>\n",
       "      <th>retweeted_status_timestamp</th>\n",
       "      <th>name</th>\n",
       "      <th>stages_of_dogs</th>\n",
       "    </tr>\n",
       "  </thead>\n",
       "  <tbody>\n",
       "    <tr>\n",
       "      <th>0</th>\n",
       "      <td>892420643555336193</td>\n",
       "      <td>2017-08-01 16:23:56+00:00</td>\n",
       "      <td>This is Phineas. He's a mystical boy. Only eve...</td>\n",
       "      <td>NaN</td>\n",
       "      <td>NaN</td>\n",
       "      <td>NaN</td>\n",
       "      <td>Phineas</td>\n",
       "      <td>NaN</td>\n",
       "    </tr>\n",
       "    <tr>\n",
       "      <th>1</th>\n",
       "      <td>892177421306343426</td>\n",
       "      <td>2017-08-01 00:17:27+00:00</td>\n",
       "      <td>This is Tilly. She's just checking pup on you....</td>\n",
       "      <td>NaN</td>\n",
       "      <td>NaN</td>\n",
       "      <td>NaN</td>\n",
       "      <td>Tilly</td>\n",
       "      <td>NaN</td>\n",
       "    </tr>\n",
       "    <tr>\n",
       "      <th>2</th>\n",
       "      <td>891815181378084864</td>\n",
       "      <td>2017-07-31 00:18:03+00:00</td>\n",
       "      <td>This is Archie. He is a rare Norwegian Pouncin...</td>\n",
       "      <td>NaN</td>\n",
       "      <td>NaN</td>\n",
       "      <td>NaN</td>\n",
       "      <td>Archie</td>\n",
       "      <td>NaN</td>\n",
       "    </tr>\n",
       "  </tbody>\n",
       "</table>\n",
       "</div>"
      ],
      "text/plain": [
       "             tweet_id                tweet_date  \\\n",
       "0  892420643555336193 2017-08-01 16:23:56+00:00   \n",
       "1  892177421306343426 2017-08-01 00:17:27+00:00   \n",
       "2  891815181378084864 2017-07-31 00:18:03+00:00   \n",
       "\n",
       "                                                text  retweeted_status_id  \\\n",
       "0  This is Phineas. He's a mystical boy. Only eve...                  NaN   \n",
       "1  This is Tilly. She's just checking pup on you....                  NaN   \n",
       "2  This is Archie. He is a rare Norwegian Pouncin...                  NaN   \n",
       "\n",
       "   retweeted_status_user_id retweeted_status_timestamp     name stages_of_dogs  \n",
       "0                       NaN                        NaN  Phineas            NaN  \n",
       "1                       NaN                        NaN    Tilly            NaN  \n",
       "2                       NaN                        NaN   Archie            NaN  "
      ]
     },
     "execution_count": 183,
     "metadata": {},
     "output_type": "execute_result"
    }
   ],
   "source": [
    "archive_df_copy.head(3)"
   ]
  },
  {
   "cell_type": "markdown",
   "id": "57865f4e",
   "metadata": {},
   "source": [
    "# Step3: Cleaning Data | images_df Dataset "
   ]
  },
  {
   "cell_type": "code",
   "execution_count": 184,
   "id": "613615ca",
   "metadata": {},
   "outputs": [
    {
     "data": {
      "text/html": [
       "<div>\n",
       "<style scoped>\n",
       "    .dataframe tbody tr th:only-of-type {\n",
       "        vertical-align: middle;\n",
       "    }\n",
       "\n",
       "    .dataframe tbody tr th {\n",
       "        vertical-align: top;\n",
       "    }\n",
       "\n",
       "    .dataframe thead th {\n",
       "        text-align: right;\n",
       "    }\n",
       "</style>\n",
       "<table border=\"1\" class=\"dataframe\">\n",
       "  <thead>\n",
       "    <tr style=\"text-align: right;\">\n",
       "      <th></th>\n",
       "      <th>tweet_id</th>\n",
       "      <th>jpg_url</th>\n",
       "      <th>img_num</th>\n",
       "      <th>p1</th>\n",
       "      <th>p1_conf</th>\n",
       "      <th>p1_dog</th>\n",
       "      <th>p2</th>\n",
       "      <th>p2_conf</th>\n",
       "      <th>p2_dog</th>\n",
       "      <th>p3</th>\n",
       "      <th>p3_conf</th>\n",
       "      <th>p3_dog</th>\n",
       "    </tr>\n",
       "  </thead>\n",
       "  <tbody>\n",
       "    <tr>\n",
       "      <th>0</th>\n",
       "      <td>666020888022790149</td>\n",
       "      <td>https://pbs.twimg.com/media/CT4udn0WwAA0aMy.jpg</td>\n",
       "      <td>1</td>\n",
       "      <td>Welsh_springer_spaniel</td>\n",
       "      <td>0.465074</td>\n",
       "      <td>True</td>\n",
       "      <td>collie</td>\n",
       "      <td>0.156665</td>\n",
       "      <td>True</td>\n",
       "      <td>Shetland_sheepdog</td>\n",
       "      <td>0.061428</td>\n",
       "      <td>True</td>\n",
       "    </tr>\n",
       "    <tr>\n",
       "      <th>1</th>\n",
       "      <td>666029285002620928</td>\n",
       "      <td>https://pbs.twimg.com/media/CT42GRgUYAA5iDo.jpg</td>\n",
       "      <td>1</td>\n",
       "      <td>redbone</td>\n",
       "      <td>0.506826</td>\n",
       "      <td>True</td>\n",
       "      <td>miniature_pinscher</td>\n",
       "      <td>0.074192</td>\n",
       "      <td>True</td>\n",
       "      <td>Rhodesian_ridgeback</td>\n",
       "      <td>0.072010</td>\n",
       "      <td>True</td>\n",
       "    </tr>\n",
       "    <tr>\n",
       "      <th>2</th>\n",
       "      <td>666033412701032449</td>\n",
       "      <td>https://pbs.twimg.com/media/CT4521TWwAEvMyu.jpg</td>\n",
       "      <td>1</td>\n",
       "      <td>German_shepherd</td>\n",
       "      <td>0.596461</td>\n",
       "      <td>True</td>\n",
       "      <td>malinois</td>\n",
       "      <td>0.138584</td>\n",
       "      <td>True</td>\n",
       "      <td>bloodhound</td>\n",
       "      <td>0.116197</td>\n",
       "      <td>True</td>\n",
       "    </tr>\n",
       "  </tbody>\n",
       "</table>\n",
       "</div>"
      ],
      "text/plain": [
       "             tweet_id                                          jpg_url  \\\n",
       "0  666020888022790149  https://pbs.twimg.com/media/CT4udn0WwAA0aMy.jpg   \n",
       "1  666029285002620928  https://pbs.twimg.com/media/CT42GRgUYAA5iDo.jpg   \n",
       "2  666033412701032449  https://pbs.twimg.com/media/CT4521TWwAEvMyu.jpg   \n",
       "\n",
       "   img_num                      p1   p1_conf  p1_dog                  p2  \\\n",
       "0        1  Welsh_springer_spaniel  0.465074    True              collie   \n",
       "1        1                 redbone  0.506826    True  miniature_pinscher   \n",
       "2        1         German_shepherd  0.596461    True            malinois   \n",
       "\n",
       "    p2_conf  p2_dog                   p3   p3_conf  p3_dog  \n",
       "0  0.156665    True    Shetland_sheepdog  0.061428    True  \n",
       "1  0.074192    True  Rhodesian_ridgeback  0.072010    True  \n",
       "2  0.138584    True           bloodhound  0.116197    True  "
      ]
     },
     "execution_count": 184,
     "metadata": {},
     "output_type": "execute_result"
    }
   ],
   "source": [
    "#Create a copy of image_predictions dataframe \n",
    "images_df_copy = images_df.copy()\n",
    "images_df_copy.head(3)"
   ]
  },
  {
   "cell_type": "markdown",
   "id": "f4d30671",
   "metadata": {},
   "source": [
    "# Quality Issues:"
   ]
  },
  {
   "cell_type": "markdown",
   "id": "4062434d",
   "metadata": {},
   "source": [
    "## 1-Defin"
   ]
  },
  {
   "cell_type": "markdown",
   "id": "9a7b9bb9",
   "metadata": {},
   "source": [
    "tweet_id  data type should be string "
   ]
  },
  {
   "cell_type": "markdown",
   "id": "054a29be",
   "metadata": {},
   "source": [
    "## 2- Code"
   ]
  },
  {
   "cell_type": "code",
   "execution_count": 185,
   "id": "d17547dc",
   "metadata": {},
   "outputs": [],
   "source": [
    "#chanage tweet_id data type to string\n",
    "images_df_copy['tweet_id'] = images_df_copy['tweet_id'].astype('str')"
   ]
  },
  {
   "cell_type": "markdown",
   "id": "87ea5ef7",
   "metadata": {},
   "source": [
    "## 3- Test"
   ]
  },
  {
   "cell_type": "code",
   "execution_count": 186,
   "id": "354e135b",
   "metadata": {},
   "outputs": [
    {
     "name": "stdout",
     "output_type": "stream",
     "text": [
      "object\n"
     ]
    }
   ],
   "source": [
    "# test \n",
    "print(images_df_copy['tweet_id'].dtype)"
   ]
  },
  {
   "cell_type": "markdown",
   "id": "0fd86191",
   "metadata": {},
   "source": [
    "## 1-Defin"
   ]
  },
  {
   "cell_type": "markdown",
   "id": "6e4b8db0",
   "metadata": {},
   "source": [
    "The types of dogs in columns p1, p2, and p3 had some uppercase \\ lowercase letters, change lowercase"
   ]
  },
  {
   "cell_type": "markdown",
   "id": "86e11415",
   "metadata": {},
   "source": [
    "## 2- Code"
   ]
  },
  {
   "cell_type": "code",
   "execution_count": 187,
   "id": "8f8dfdf7",
   "metadata": {},
   "outputs": [],
   "source": [
    "#The types of dogs in columns p1, p2, and p3 had some uppercase \\ lowercase letters.\n",
    "images_df_copy['p1'] = images_df_copy['p1'].str.lower()"
   ]
  },
  {
   "cell_type": "code",
   "execution_count": 188,
   "id": "c6ec3564",
   "metadata": {},
   "outputs": [],
   "source": [
    "images_df_copy['p2'] = images_df_copy['p2'].str.lower()"
   ]
  },
  {
   "cell_type": "code",
   "execution_count": 189,
   "id": "583f46df",
   "metadata": {},
   "outputs": [],
   "source": [
    "images_df_copy['p3'] = images_df_copy['p3'].str.lower()"
   ]
  },
  {
   "cell_type": "markdown",
   "id": "38a0044f",
   "metadata": {},
   "source": [
    "## 3-Test"
   ]
  },
  {
   "cell_type": "code",
   "execution_count": 190,
   "id": "cd990362",
   "metadata": {},
   "outputs": [
    {
     "data": {
      "text/plain": [
       "0    welsh_springer_spaniel\n",
       "1                   redbone\n",
       "2           german_shepherd\n",
       "3       rhodesian_ridgeback\n",
       "4        miniature_pinscher\n",
       "Name: p1, dtype: object"
      ]
     },
     "execution_count": 190,
     "metadata": {},
     "output_type": "execute_result"
    }
   ],
   "source": [
    "images_df_copy['p1'].head()"
   ]
  },
  {
   "cell_type": "code",
   "execution_count": 191,
   "id": "2bdec035",
   "metadata": {},
   "outputs": [
    {
     "data": {
      "text/plain": [
       "0                collie\n",
       "1    miniature_pinscher\n",
       "2              malinois\n",
       "3               redbone\n",
       "4            rottweiler\n",
       "Name: p2, dtype: object"
      ]
     },
     "execution_count": 191,
     "metadata": {},
     "output_type": "execute_result"
    }
   ],
   "source": [
    "images_df_copy['p2'].head()"
   ]
  },
  {
   "cell_type": "code",
   "execution_count": 192,
   "id": "2825f912",
   "metadata": {},
   "outputs": [
    {
     "data": {
      "text/plain": [
       "0      shetland_sheepdog\n",
       "1    rhodesian_ridgeback\n",
       "2             bloodhound\n",
       "3     miniature_pinscher\n",
       "4               doberman\n",
       "Name: p3, dtype: object"
      ]
     },
     "execution_count": 192,
     "metadata": {},
     "output_type": "execute_result"
    }
   ],
   "source": [
    "images_df_copy['p3'].head()"
   ]
  },
  {
   "cell_type": "markdown",
   "id": "10317bbc",
   "metadata": {},
   "source": [
    "# Tidiness Issues :¶"
   ]
  },
  {
   "cell_type": "markdown",
   "id": "e2f8704c",
   "metadata": {},
   "source": [
    "## 1- Defin"
   ]
  },
  {
   "cell_type": "markdown",
   "id": "03620a00",
   "metadata": {},
   "source": [
    "extract breed of dog from columns p, p_conf and p_dog"
   ]
  },
  {
   "cell_type": "markdown",
   "id": "90985f12",
   "metadata": {},
   "source": [
    "## 2- Code"
   ]
  },
  {
   "cell_type": "code",
   "execution_count": 193,
   "id": "00ea5ea0",
   "metadata": {},
   "outputs": [],
   "source": [
    "#extract dog breed \n",
    "def extr_dog(r):\n",
    "        is_bread = False\n",
    "        conf_br = 0\n",
    "        nama_br = ''\n",
    "        if(r.p1_dog == True):\n",
    "            if(r.p1_conf >= True):\n",
    "                conf_br = r.p1_conf\n",
    "                name_br = r.p1\n",
    "                is_bread = True\n",
    "        if(r.p2_dog == True):\n",
    "            if(r.p2_conf >= conf_br):\n",
    "                conf_br = r.p2_conf\n",
    "                name_br =r.p2\n",
    "                is_bread = True\n",
    "        if(r.p3_dog == True):\n",
    "            if(r.p3_conf >= conf_br):\n",
    "                conf_br = r.p3_conf\n",
    "                name_br =r.p3\n",
    "                is_bread = True\n",
    "        if is_bread == False:\n",
    "            return np.nan\n",
    "        else:\n",
    "            return name_br\n",
    "images_df_copy['breed'] = images_df_copy.apply(extr_dog,axis=1)"
   ]
  },
  {
   "cell_type": "code",
   "execution_count": 194,
   "id": "f2a980c0",
   "metadata": {},
   "outputs": [],
   "source": [
    "drop_columns = ['p1','p1_conf','p1_dog','p2','p2_conf','p2_dog','p3','p3_conf','p3_dog']\n",
    "images_df_copy.drop(drop_columns, axis=1,inplace = True)"
   ]
  },
  {
   "cell_type": "markdown",
   "id": "f15ddeb6",
   "metadata": {},
   "source": [
    "## 3-Test"
   ]
  },
  {
   "cell_type": "code",
   "execution_count": 195,
   "id": "dfddbf7d",
   "metadata": {},
   "outputs": [
    {
     "data": {
      "text/html": [
       "<div>\n",
       "<style scoped>\n",
       "    .dataframe tbody tr th:only-of-type {\n",
       "        vertical-align: middle;\n",
       "    }\n",
       "\n",
       "    .dataframe tbody tr th {\n",
       "        vertical-align: top;\n",
       "    }\n",
       "\n",
       "    .dataframe thead th {\n",
       "        text-align: right;\n",
       "    }\n",
       "</style>\n",
       "<table border=\"1\" class=\"dataframe\">\n",
       "  <thead>\n",
       "    <tr style=\"text-align: right;\">\n",
       "      <th></th>\n",
       "      <th>tweet_id</th>\n",
       "      <th>jpg_url</th>\n",
       "      <th>img_num</th>\n",
       "      <th>breed</th>\n",
       "    </tr>\n",
       "  </thead>\n",
       "  <tbody>\n",
       "    <tr>\n",
       "      <th>0</th>\n",
       "      <td>666020888022790149</td>\n",
       "      <td>https://pbs.twimg.com/media/CT4udn0WwAA0aMy.jpg</td>\n",
       "      <td>1</td>\n",
       "      <td>collie</td>\n",
       "    </tr>\n",
       "    <tr>\n",
       "      <th>1</th>\n",
       "      <td>666029285002620928</td>\n",
       "      <td>https://pbs.twimg.com/media/CT42GRgUYAA5iDo.jpg</td>\n",
       "      <td>1</td>\n",
       "      <td>miniature_pinscher</td>\n",
       "    </tr>\n",
       "    <tr>\n",
       "      <th>2</th>\n",
       "      <td>666033412701032449</td>\n",
       "      <td>https://pbs.twimg.com/media/CT4521TWwAEvMyu.jpg</td>\n",
       "      <td>1</td>\n",
       "      <td>malinois</td>\n",
       "    </tr>\n",
       "  </tbody>\n",
       "</table>\n",
       "</div>"
      ],
      "text/plain": [
       "             tweet_id                                          jpg_url  \\\n",
       "0  666020888022790149  https://pbs.twimg.com/media/CT4udn0WwAA0aMy.jpg   \n",
       "1  666029285002620928  https://pbs.twimg.com/media/CT42GRgUYAA5iDo.jpg   \n",
       "2  666033412701032449  https://pbs.twimg.com/media/CT4521TWwAEvMyu.jpg   \n",
       "\n",
       "   img_num               breed  \n",
       "0        1              collie  \n",
       "1        1  miniature_pinscher  \n",
       "2        1            malinois  "
      ]
     },
     "execution_count": 195,
     "metadata": {},
     "output_type": "execute_result"
    }
   ],
   "source": [
    "images_df_copy.head(3)"
   ]
  },
  {
   "cell_type": "code",
   "execution_count": 196,
   "id": "8c97240b",
   "metadata": {},
   "outputs": [
    {
     "name": "stdout",
     "output_type": "stream",
     "text": [
      "<class 'pandas.core.frame.DataFrame'>\n",
      "RangeIndex: 2075 entries, 0 to 2074\n",
      "Data columns (total 4 columns):\n",
      " #   Column    Non-Null Count  Dtype \n",
      "---  ------    --------------  ----- \n",
      " 0   tweet_id  2075 non-null   object\n",
      " 1   jpg_url   2075 non-null   object\n",
      " 2   img_num   2075 non-null   int64 \n",
      " 3   breed     1708 non-null   object\n",
      "dtypes: int64(1), object(3)\n",
      "memory usage: 65.0+ KB\n"
     ]
    }
   ],
   "source": [
    "images_df_copy.info()"
   ]
  },
  {
   "cell_type": "markdown",
   "id": "9418464c",
   "metadata": {},
   "source": [
    "# Step3: Cleaning Data | tweet_df dataset"
   ]
  },
  {
   "cell_type": "code",
   "execution_count": 197,
   "id": "19d5a359",
   "metadata": {},
   "outputs": [
    {
     "data": {
      "text/html": [
       "<div>\n",
       "<style scoped>\n",
       "    .dataframe tbody tr th:only-of-type {\n",
       "        vertical-align: middle;\n",
       "    }\n",
       "\n",
       "    .dataframe tbody tr th {\n",
       "        vertical-align: top;\n",
       "    }\n",
       "\n",
       "    .dataframe thead th {\n",
       "        text-align: right;\n",
       "    }\n",
       "</style>\n",
       "<table border=\"1\" class=\"dataframe\">\n",
       "  <thead>\n",
       "    <tr style=\"text-align: right;\">\n",
       "      <th></th>\n",
       "      <th>created_at</th>\n",
       "      <th>id</th>\n",
       "      <th>id_str</th>\n",
       "      <th>full_text</th>\n",
       "      <th>truncated</th>\n",
       "      <th>display_text_range</th>\n",
       "      <th>entities</th>\n",
       "      <th>extended_entities</th>\n",
       "      <th>source</th>\n",
       "      <th>in_reply_to_status_id</th>\n",
       "      <th>...</th>\n",
       "      <th>favorite_count</th>\n",
       "      <th>favorited</th>\n",
       "      <th>retweeted</th>\n",
       "      <th>possibly_sensitive</th>\n",
       "      <th>possibly_sensitive_appealable</th>\n",
       "      <th>lang</th>\n",
       "      <th>retweeted_status</th>\n",
       "      <th>quoted_status_id</th>\n",
       "      <th>quoted_status_id_str</th>\n",
       "      <th>quoted_status</th>\n",
       "    </tr>\n",
       "  </thead>\n",
       "  <tbody>\n",
       "    <tr>\n",
       "      <th>0</th>\n",
       "      <td>2017-08-01 16:23:56+00:00</td>\n",
       "      <td>892420643555336193</td>\n",
       "      <td>892420643555336192</td>\n",
       "      <td>This is Phineas. He's a mystical boy. Only eve...</td>\n",
       "      <td>False</td>\n",
       "      <td>[0, 85]</td>\n",
       "      <td>{'hashtags': [], 'symbols': [], 'user_mentions...</td>\n",
       "      <td>{'media': [{'id': 892420639486877696, 'id_str'...</td>\n",
       "      <td>&lt;a href=\"http://twitter.com/download/iphone\" r...</td>\n",
       "      <td>NaN</td>\n",
       "      <td>...</td>\n",
       "      <td>39467</td>\n",
       "      <td>False</td>\n",
       "      <td>False</td>\n",
       "      <td>0.0</td>\n",
       "      <td>0.0</td>\n",
       "      <td>en</td>\n",
       "      <td>NaN</td>\n",
       "      <td>NaN</td>\n",
       "      <td>NaN</td>\n",
       "      <td>NaN</td>\n",
       "    </tr>\n",
       "    <tr>\n",
       "      <th>1</th>\n",
       "      <td>2017-08-01 00:17:27+00:00</td>\n",
       "      <td>892177421306343426</td>\n",
       "      <td>892177421306343424</td>\n",
       "      <td>This is Tilly. She's just checking pup on you....</td>\n",
       "      <td>False</td>\n",
       "      <td>[0, 138]</td>\n",
       "      <td>{'hashtags': [], 'symbols': [], 'user_mentions...</td>\n",
       "      <td>{'media': [{'id': 892177413194625024, 'id_str'...</td>\n",
       "      <td>&lt;a href=\"http://twitter.com/download/iphone\" r...</td>\n",
       "      <td>NaN</td>\n",
       "      <td>...</td>\n",
       "      <td>33819</td>\n",
       "      <td>False</td>\n",
       "      <td>False</td>\n",
       "      <td>0.0</td>\n",
       "      <td>0.0</td>\n",
       "      <td>en</td>\n",
       "      <td>NaN</td>\n",
       "      <td>NaN</td>\n",
       "      <td>NaN</td>\n",
       "      <td>NaN</td>\n",
       "    </tr>\n",
       "    <tr>\n",
       "      <th>2</th>\n",
       "      <td>2017-07-31 00:18:03+00:00</td>\n",
       "      <td>891815181378084864</td>\n",
       "      <td>891815181378084864</td>\n",
       "      <td>This is Archie. He is a rare Norwegian Pouncin...</td>\n",
       "      <td>False</td>\n",
       "      <td>[0, 121]</td>\n",
       "      <td>{'hashtags': [], 'symbols': [], 'user_mentions...</td>\n",
       "      <td>{'media': [{'id': 891815175371796480, 'id_str'...</td>\n",
       "      <td>&lt;a href=\"http://twitter.com/download/iphone\" r...</td>\n",
       "      <td>NaN</td>\n",
       "      <td>...</td>\n",
       "      <td>25461</td>\n",
       "      <td>False</td>\n",
       "      <td>False</td>\n",
       "      <td>0.0</td>\n",
       "      <td>0.0</td>\n",
       "      <td>en</td>\n",
       "      <td>NaN</td>\n",
       "      <td>NaN</td>\n",
       "      <td>NaN</td>\n",
       "      <td>NaN</td>\n",
       "    </tr>\n",
       "  </tbody>\n",
       "</table>\n",
       "<p>3 rows × 31 columns</p>\n",
       "</div>"
      ],
      "text/plain": [
       "                 created_at                  id              id_str  \\\n",
       "0 2017-08-01 16:23:56+00:00  892420643555336193  892420643555336192   \n",
       "1 2017-08-01 00:17:27+00:00  892177421306343426  892177421306343424   \n",
       "2 2017-07-31 00:18:03+00:00  891815181378084864  891815181378084864   \n",
       "\n",
       "                                           full_text  truncated  \\\n",
       "0  This is Phineas. He's a mystical boy. Only eve...      False   \n",
       "1  This is Tilly. She's just checking pup on you....      False   \n",
       "2  This is Archie. He is a rare Norwegian Pouncin...      False   \n",
       "\n",
       "  display_text_range                                           entities  \\\n",
       "0            [0, 85]  {'hashtags': [], 'symbols': [], 'user_mentions...   \n",
       "1           [0, 138]  {'hashtags': [], 'symbols': [], 'user_mentions...   \n",
       "2           [0, 121]  {'hashtags': [], 'symbols': [], 'user_mentions...   \n",
       "\n",
       "                                   extended_entities  \\\n",
       "0  {'media': [{'id': 892420639486877696, 'id_str'...   \n",
       "1  {'media': [{'id': 892177413194625024, 'id_str'...   \n",
       "2  {'media': [{'id': 891815175371796480, 'id_str'...   \n",
       "\n",
       "                                              source  in_reply_to_status_id  \\\n",
       "0  <a href=\"http://twitter.com/download/iphone\" r...                    NaN   \n",
       "1  <a href=\"http://twitter.com/download/iphone\" r...                    NaN   \n",
       "2  <a href=\"http://twitter.com/download/iphone\" r...                    NaN   \n",
       "\n",
       "   ...  favorite_count  favorited  retweeted possibly_sensitive  \\\n",
       "0  ...           39467      False      False                0.0   \n",
       "1  ...           33819      False      False                0.0   \n",
       "2  ...           25461      False      False                0.0   \n",
       "\n",
       "  possibly_sensitive_appealable  lang  retweeted_status quoted_status_id  \\\n",
       "0                           0.0    en               NaN              NaN   \n",
       "1                           0.0    en               NaN              NaN   \n",
       "2                           0.0    en               NaN              NaN   \n",
       "\n",
       "   quoted_status_id_str  quoted_status  \n",
       "0                   NaN            NaN  \n",
       "1                   NaN            NaN  \n",
       "2                   NaN            NaN  \n",
       "\n",
       "[3 rows x 31 columns]"
      ]
     },
     "execution_count": 197,
     "metadata": {},
     "output_type": "execute_result"
    }
   ],
   "source": [
    "#Create a copy of data_tweet dataframe \n",
    "tweet_df_copy = tweet_df.copy()\n",
    "tweet_df_copy.head(3)"
   ]
  },
  {
   "cell_type": "code",
   "execution_count": 198,
   "id": "fdc18265",
   "metadata": {},
   "outputs": [
    {
     "name": "stdout",
     "output_type": "stream",
     "text": [
      "<class 'pandas.core.frame.DataFrame'>\n",
      "RangeIndex: 2354 entries, 0 to 2353\n",
      "Data columns (total 31 columns):\n",
      " #   Column                         Non-Null Count  Dtype              \n",
      "---  ------                         --------------  -----              \n",
      " 0   created_at                     2354 non-null   datetime64[ns, UTC]\n",
      " 1   id                             2354 non-null   int64              \n",
      " 2   id_str                         2354 non-null   int64              \n",
      " 3   full_text                      2354 non-null   object             \n",
      " 4   truncated                      2354 non-null   bool               \n",
      " 5   display_text_range             2354 non-null   object             \n",
      " 6   entities                       2354 non-null   object             \n",
      " 7   extended_entities              2073 non-null   object             \n",
      " 8   source                         2354 non-null   object             \n",
      " 9   in_reply_to_status_id          78 non-null     float64            \n",
      " 10  in_reply_to_status_id_str      78 non-null     float64            \n",
      " 11  in_reply_to_user_id            78 non-null     float64            \n",
      " 12  in_reply_to_user_id_str        78 non-null     float64            \n",
      " 13  in_reply_to_screen_name        78 non-null     object             \n",
      " 14  user                           2354 non-null   object             \n",
      " 15  geo                            0 non-null      float64            \n",
      " 16  coordinates                    0 non-null      float64            \n",
      " 17  place                          1 non-null      object             \n",
      " 18  contributors                   0 non-null      float64            \n",
      " 19  is_quote_status                2354 non-null   bool               \n",
      " 20  retweet_count                  2354 non-null   int64              \n",
      " 21  favorite_count                 2354 non-null   int64              \n",
      " 22  favorited                      2354 non-null   bool               \n",
      " 23  retweeted                      2354 non-null   bool               \n",
      " 24  possibly_sensitive             2211 non-null   float64            \n",
      " 25  possibly_sensitive_appealable  2211 non-null   float64            \n",
      " 26  lang                           2354 non-null   object             \n",
      " 27  retweeted_status               179 non-null    object             \n",
      " 28  quoted_status_id               29 non-null     float64            \n",
      " 29  quoted_status_id_str           29 non-null     float64            \n",
      " 30  quoted_status                  28 non-null     object             \n",
      "dtypes: bool(4), datetime64[ns, UTC](1), float64(11), int64(4), object(11)\n",
      "memory usage: 505.9+ KB\n"
     ]
    }
   ],
   "source": [
    "tweet_df_copy.info()"
   ]
  },
  {
   "cell_type": "markdown",
   "id": "2dedb62b",
   "metadata": {},
   "source": [
    "# Quality Issues:"
   ]
  },
  {
   "cell_type": "markdown",
   "id": "c47c14b0",
   "metadata": {},
   "source": [
    "## 1- Defin"
   ]
  },
  {
   "cell_type": "markdown",
   "id": "fc2faf53",
   "metadata": {},
   "source": [
    "change colum name 'd_str' to 'tweet_id' as the others dataset"
   ]
  },
  {
   "cell_type": "markdown",
   "id": "ac9fba7c",
   "metadata": {},
   "source": [
    "## 2- Code"
   ]
  },
  {
   "cell_type": "code",
   "execution_count": 199,
   "id": "fa559346",
   "metadata": {},
   "outputs": [],
   "source": [
    "tweet_df_copy.rename(columns={'id_str':'tweet_id'},inplace=True)"
   ]
  },
  {
   "cell_type": "markdown",
   "id": "da3101b6",
   "metadata": {},
   "source": [
    "## 3- Test"
   ]
  },
  {
   "cell_type": "code",
   "execution_count": 200,
   "id": "a0b10026",
   "metadata": {},
   "outputs": [
    {
     "data": {
      "text/html": [
       "<div>\n",
       "<style scoped>\n",
       "    .dataframe tbody tr th:only-of-type {\n",
       "        vertical-align: middle;\n",
       "    }\n",
       "\n",
       "    .dataframe tbody tr th {\n",
       "        vertical-align: top;\n",
       "    }\n",
       "\n",
       "    .dataframe thead th {\n",
       "        text-align: right;\n",
       "    }\n",
       "</style>\n",
       "<table border=\"1\" class=\"dataframe\">\n",
       "  <thead>\n",
       "    <tr style=\"text-align: right;\">\n",
       "      <th></th>\n",
       "      <th>created_at</th>\n",
       "      <th>id</th>\n",
       "      <th>tweet_id</th>\n",
       "      <th>full_text</th>\n",
       "      <th>truncated</th>\n",
       "      <th>display_text_range</th>\n",
       "      <th>entities</th>\n",
       "      <th>extended_entities</th>\n",
       "      <th>source</th>\n",
       "      <th>in_reply_to_status_id</th>\n",
       "      <th>...</th>\n",
       "      <th>favorite_count</th>\n",
       "      <th>favorited</th>\n",
       "      <th>retweeted</th>\n",
       "      <th>possibly_sensitive</th>\n",
       "      <th>possibly_sensitive_appealable</th>\n",
       "      <th>lang</th>\n",
       "      <th>retweeted_status</th>\n",
       "      <th>quoted_status_id</th>\n",
       "      <th>quoted_status_id_str</th>\n",
       "      <th>quoted_status</th>\n",
       "    </tr>\n",
       "  </thead>\n",
       "  <tbody>\n",
       "    <tr>\n",
       "      <th>0</th>\n",
       "      <td>2017-08-01 16:23:56+00:00</td>\n",
       "      <td>892420643555336193</td>\n",
       "      <td>892420643555336192</td>\n",
       "      <td>This is Phineas. He's a mystical boy. Only eve...</td>\n",
       "      <td>False</td>\n",
       "      <td>[0, 85]</td>\n",
       "      <td>{'hashtags': [], 'symbols': [], 'user_mentions...</td>\n",
       "      <td>{'media': [{'id': 892420639486877696, 'id_str'...</td>\n",
       "      <td>&lt;a href=\"http://twitter.com/download/iphone\" r...</td>\n",
       "      <td>NaN</td>\n",
       "      <td>...</td>\n",
       "      <td>39467</td>\n",
       "      <td>False</td>\n",
       "      <td>False</td>\n",
       "      <td>0.0</td>\n",
       "      <td>0.0</td>\n",
       "      <td>en</td>\n",
       "      <td>NaN</td>\n",
       "      <td>NaN</td>\n",
       "      <td>NaN</td>\n",
       "      <td>NaN</td>\n",
       "    </tr>\n",
       "    <tr>\n",
       "      <th>1</th>\n",
       "      <td>2017-08-01 00:17:27+00:00</td>\n",
       "      <td>892177421306343426</td>\n",
       "      <td>892177421306343424</td>\n",
       "      <td>This is Tilly. She's just checking pup on you....</td>\n",
       "      <td>False</td>\n",
       "      <td>[0, 138]</td>\n",
       "      <td>{'hashtags': [], 'symbols': [], 'user_mentions...</td>\n",
       "      <td>{'media': [{'id': 892177413194625024, 'id_str'...</td>\n",
       "      <td>&lt;a href=\"http://twitter.com/download/iphone\" r...</td>\n",
       "      <td>NaN</td>\n",
       "      <td>...</td>\n",
       "      <td>33819</td>\n",
       "      <td>False</td>\n",
       "      <td>False</td>\n",
       "      <td>0.0</td>\n",
       "      <td>0.0</td>\n",
       "      <td>en</td>\n",
       "      <td>NaN</td>\n",
       "      <td>NaN</td>\n",
       "      <td>NaN</td>\n",
       "      <td>NaN</td>\n",
       "    </tr>\n",
       "    <tr>\n",
       "      <th>2</th>\n",
       "      <td>2017-07-31 00:18:03+00:00</td>\n",
       "      <td>891815181378084864</td>\n",
       "      <td>891815181378084864</td>\n",
       "      <td>This is Archie. He is a rare Norwegian Pouncin...</td>\n",
       "      <td>False</td>\n",
       "      <td>[0, 121]</td>\n",
       "      <td>{'hashtags': [], 'symbols': [], 'user_mentions...</td>\n",
       "      <td>{'media': [{'id': 891815175371796480, 'id_str'...</td>\n",
       "      <td>&lt;a href=\"http://twitter.com/download/iphone\" r...</td>\n",
       "      <td>NaN</td>\n",
       "      <td>...</td>\n",
       "      <td>25461</td>\n",
       "      <td>False</td>\n",
       "      <td>False</td>\n",
       "      <td>0.0</td>\n",
       "      <td>0.0</td>\n",
       "      <td>en</td>\n",
       "      <td>NaN</td>\n",
       "      <td>NaN</td>\n",
       "      <td>NaN</td>\n",
       "      <td>NaN</td>\n",
       "    </tr>\n",
       "  </tbody>\n",
       "</table>\n",
       "<p>3 rows × 31 columns</p>\n",
       "</div>"
      ],
      "text/plain": [
       "                 created_at                  id            tweet_id  \\\n",
       "0 2017-08-01 16:23:56+00:00  892420643555336193  892420643555336192   \n",
       "1 2017-08-01 00:17:27+00:00  892177421306343426  892177421306343424   \n",
       "2 2017-07-31 00:18:03+00:00  891815181378084864  891815181378084864   \n",
       "\n",
       "                                           full_text  truncated  \\\n",
       "0  This is Phineas. He's a mystical boy. Only eve...      False   \n",
       "1  This is Tilly. She's just checking pup on you....      False   \n",
       "2  This is Archie. He is a rare Norwegian Pouncin...      False   \n",
       "\n",
       "  display_text_range                                           entities  \\\n",
       "0            [0, 85]  {'hashtags': [], 'symbols': [], 'user_mentions...   \n",
       "1           [0, 138]  {'hashtags': [], 'symbols': [], 'user_mentions...   \n",
       "2           [0, 121]  {'hashtags': [], 'symbols': [], 'user_mentions...   \n",
       "\n",
       "                                   extended_entities  \\\n",
       "0  {'media': [{'id': 892420639486877696, 'id_str'...   \n",
       "1  {'media': [{'id': 892177413194625024, 'id_str'...   \n",
       "2  {'media': [{'id': 891815175371796480, 'id_str'...   \n",
       "\n",
       "                                              source  in_reply_to_status_id  \\\n",
       "0  <a href=\"http://twitter.com/download/iphone\" r...                    NaN   \n",
       "1  <a href=\"http://twitter.com/download/iphone\" r...                    NaN   \n",
       "2  <a href=\"http://twitter.com/download/iphone\" r...                    NaN   \n",
       "\n",
       "   ...  favorite_count  favorited  retweeted possibly_sensitive  \\\n",
       "0  ...           39467      False      False                0.0   \n",
       "1  ...           33819      False      False                0.0   \n",
       "2  ...           25461      False      False                0.0   \n",
       "\n",
       "  possibly_sensitive_appealable  lang  retweeted_status quoted_status_id  \\\n",
       "0                           0.0    en               NaN              NaN   \n",
       "1                           0.0    en               NaN              NaN   \n",
       "2                           0.0    en               NaN              NaN   \n",
       "\n",
       "   quoted_status_id_str  quoted_status  \n",
       "0                   NaN            NaN  \n",
       "1                   NaN            NaN  \n",
       "2                   NaN            NaN  \n",
       "\n",
       "[3 rows x 31 columns]"
      ]
     },
     "execution_count": 200,
     "metadata": {},
     "output_type": "execute_result"
    }
   ],
   "source": [
    "tweet_df_copy.head(3)"
   ]
  },
  {
   "cell_type": "markdown",
   "id": "76e190da",
   "metadata": {},
   "source": [
    "## 1- Defin"
   ]
  },
  {
   "cell_type": "markdown",
   "id": "db2fb0c4",
   "metadata": {},
   "source": [
    "change tweet_id data type to object"
   ]
  },
  {
   "cell_type": "markdown",
   "id": "6559bc97",
   "metadata": {},
   "source": [
    "## 2- Code"
   ]
  },
  {
   "cell_type": "code",
   "execution_count": 201,
   "id": "a12d48a6",
   "metadata": {},
   "outputs": [],
   "source": [
    "#change tweet_id data type to object\n",
    "tweet_df_copy['tweet_id'] = tweet_df_copy['tweet_id'].astype('str')"
   ]
  },
  {
   "cell_type": "markdown",
   "id": "4013c055",
   "metadata": {},
   "source": [
    "## 3- Test"
   ]
  },
  {
   "cell_type": "code",
   "execution_count": 202,
   "id": "293e4577",
   "metadata": {},
   "outputs": [
    {
     "name": "stdout",
     "output_type": "stream",
     "text": [
      "object\n"
     ]
    }
   ],
   "source": [
    "#test\n",
    "print(tweet_df_copy['tweet_id'].dtype)"
   ]
  },
  {
   "cell_type": "markdown",
   "id": "8cb7e91a",
   "metadata": {},
   "source": [
    "## 1- Defin"
   ]
  },
  {
   "cell_type": "markdown",
   "id": "8d1dde04",
   "metadata": {},
   "source": [
    " change 'sourse' data type to category"
   ]
  },
  {
   "cell_type": "markdown",
   "id": "57d8f830",
   "metadata": {},
   "source": [
    "## 2- Code"
   ]
  },
  {
   "cell_type": "code",
   "execution_count": 203,
   "id": "f1abd8b8",
   "metadata": {},
   "outputs": [],
   "source": [
    "#change  source data dtype to category\n",
    "tweet_df_copy['source'] = tweet_df_copy['source'].astype('category')\n"
   ]
  },
  {
   "cell_type": "markdown",
   "id": "034529a0",
   "metadata": {},
   "source": [
    "## 3- Test"
   ]
  },
  {
   "cell_type": "code",
   "execution_count": 204,
   "id": "e56b7ab9",
   "metadata": {},
   "outputs": [
    {
     "name": "stdout",
     "output_type": "stream",
     "text": [
      "category\n"
     ]
    }
   ],
   "source": [
    "#test \n",
    "print(tweet_df_copy['source'].dtype)"
   ]
  },
  {
   "cell_type": "markdown",
   "id": "d3a1d5f3",
   "metadata": {},
   "source": [
    "## 1- Defin"
   ]
  },
  {
   "cell_type": "markdown",
   "id": "4f56df4f",
   "metadata": {},
   "source": [
    "we have 179 tweets that are retweeted we need to drop it and drop the coulmns."
   ]
  },
  {
   "cell_type": "markdown",
   "id": "a6d263d4",
   "metadata": {},
   "source": [
    "## 2- Code"
   ]
  },
  {
   "cell_type": "code",
   "execution_count": 205,
   "id": "3f03e6d1",
   "metadata": {},
   "outputs": [
    {
     "data": {
      "text/plain": [
       "179"
      ]
     },
     "execution_count": 205,
     "metadata": {},
     "output_type": "execute_result"
    }
   ],
   "source": [
    "(tweet_df_copy[tweet_df_copy['retweeted_status'].isna() != True])['id'].count()"
   ]
  },
  {
   "cell_type": "markdown",
   "id": "80e77e9f",
   "metadata": {},
   "source": [
    "## 3- Test"
   ]
  },
  {
   "cell_type": "code",
   "execution_count": 206,
   "id": "4342f2e1",
   "metadata": {},
   "outputs": [],
   "source": [
    "tweet_df_copy = tweet_df_copy[tweet_df_copy['retweeted_status'].isna()]"
   ]
  },
  {
   "cell_type": "code",
   "execution_count": 207,
   "id": "460b1b79",
   "metadata": {},
   "outputs": [
    {
     "data": {
      "text/plain": [
       "0"
      ]
     },
     "execution_count": 207,
     "metadata": {},
     "output_type": "execute_result"
    }
   ],
   "source": [
    "(tweet_df_copy[tweet_df_copy['retweeted_status'].isna() != True])['id'].count()"
   ]
  },
  {
   "cell_type": "code",
   "execution_count": 208,
   "id": "e41a485f",
   "metadata": {},
   "outputs": [],
   "source": [
    "# drop the coulmns 'retweeted_status_id','retweeted_status_user_id','retweeted_status_timestamp'\n",
    "archive_df_copy.drop(columns=['retweeted_status_id','retweeted_status_user_id','retweeted_status_timestamp'],inplace=True)"
   ]
  },
  {
   "cell_type": "markdown",
   "id": "bc81c9e6",
   "metadata": {},
   "source": [
    "## 1- Defin"
   ]
  },
  {
   "cell_type": "markdown",
   "id": "1712aea9",
   "metadata": {},
   "source": [
    "drop unnessary columns"
   ]
  },
  {
   "cell_type": "markdown",
   "id": "2e81c696",
   "metadata": {},
   "source": [
    "## 2- Code"
   ]
  },
  {
   "cell_type": "code",
   "execution_count": 209,
   "id": "ef0a45ba",
   "metadata": {},
   "outputs": [],
   "source": [
    "#Delete columns no needed\n",
    "tweet_df_copy.drop(columns=['created_at','full_text','truncated','display_text_range','entities'\n",
    "    ,'extended_entities','in_reply_to_status_id','in_reply_to_status_id_str','in_reply_to_user_id','in_reply_to_user_id_str'\n",
    "     ,'in_reply_to_screen_name','user','geo','coordinates','favorited','retweeted','possibly_sensitive','possibly_sensitive_appealable','lang'\n",
    "    ,'retweeted_status','quoted_status_id','quoted_status_id_str','quoted_status','place','contributors','is_quote_status'],inplace=True)\n"
   ]
  },
  {
   "cell_type": "markdown",
   "id": "7f4bf19d",
   "metadata": {},
   "source": [
    "## 3- Test"
   ]
  },
  {
   "cell_type": "code",
   "execution_count": 210,
   "id": "a9356d3c",
   "metadata": {},
   "outputs": [
    {
     "name": "stdout",
     "output_type": "stream",
     "text": [
      "<class 'pandas.core.frame.DataFrame'>\n",
      "Int64Index: 2175 entries, 0 to 2353\n",
      "Data columns (total 5 columns):\n",
      " #   Column          Non-Null Count  Dtype   \n",
      "---  ------          --------------  -----   \n",
      " 0   id              2175 non-null   int64   \n",
      " 1   tweet_id        2175 non-null   object  \n",
      " 2   source          2175 non-null   category\n",
      " 3   retweet_count   2175 non-null   int64   \n",
      " 4   favorite_count  2175 non-null   int64   \n",
      "dtypes: category(1), int64(3), object(1)\n",
      "memory usage: 87.3+ KB\n"
     ]
    }
   ],
   "source": [
    "tweet_df_copy.info()"
   ]
  },
  {
   "cell_type": "code",
   "execution_count": 211,
   "id": "477a1154",
   "metadata": {},
   "outputs": [
    {
     "data": {
      "text/plain": [
       "id                0\n",
       "tweet_id          0\n",
       "source            0\n",
       "retweet_count     0\n",
       "favorite_count    0\n",
       "dtype: int64"
      ]
     },
     "execution_count": 211,
     "metadata": {},
     "output_type": "execute_result"
    }
   ],
   "source": [
    "tweet_df_copy.isnull().sum()"
   ]
  },
  {
   "cell_type": "code",
   "execution_count": 212,
   "id": "c709e51d",
   "metadata": {},
   "outputs": [
    {
     "data": {
      "text/html": [
       "<div>\n",
       "<style scoped>\n",
       "    .dataframe tbody tr th:only-of-type {\n",
       "        vertical-align: middle;\n",
       "    }\n",
       "\n",
       "    .dataframe tbody tr th {\n",
       "        vertical-align: top;\n",
       "    }\n",
       "\n",
       "    .dataframe thead th {\n",
       "        text-align: right;\n",
       "    }\n",
       "</style>\n",
       "<table border=\"1\" class=\"dataframe\">\n",
       "  <thead>\n",
       "    <tr style=\"text-align: right;\">\n",
       "      <th></th>\n",
       "      <th>id</th>\n",
       "      <th>tweet_id</th>\n",
       "      <th>source</th>\n",
       "      <th>retweet_count</th>\n",
       "      <th>favorite_count</th>\n",
       "    </tr>\n",
       "  </thead>\n",
       "  <tbody>\n",
       "    <tr>\n",
       "      <th>0</th>\n",
       "      <td>892420643555336193</td>\n",
       "      <td>892420643555336192</td>\n",
       "      <td>&lt;a href=\"http://twitter.com/download/iphone\" r...</td>\n",
       "      <td>8853</td>\n",
       "      <td>39467</td>\n",
       "    </tr>\n",
       "    <tr>\n",
       "      <th>1</th>\n",
       "      <td>892177421306343426</td>\n",
       "      <td>892177421306343424</td>\n",
       "      <td>&lt;a href=\"http://twitter.com/download/iphone\" r...</td>\n",
       "      <td>6514</td>\n",
       "      <td>33819</td>\n",
       "    </tr>\n",
       "    <tr>\n",
       "      <th>2</th>\n",
       "      <td>891815181378084864</td>\n",
       "      <td>891815181378084864</td>\n",
       "      <td>&lt;a href=\"http://twitter.com/download/iphone\" r...</td>\n",
       "      <td>4328</td>\n",
       "      <td>25461</td>\n",
       "    </tr>\n",
       "    <tr>\n",
       "      <th>3</th>\n",
       "      <td>891689557279858688</td>\n",
       "      <td>891689557279858688</td>\n",
       "      <td>&lt;a href=\"http://twitter.com/download/iphone\" r...</td>\n",
       "      <td>8964</td>\n",
       "      <td>42908</td>\n",
       "    </tr>\n",
       "    <tr>\n",
       "      <th>4</th>\n",
       "      <td>891327558926688256</td>\n",
       "      <td>891327558926688256</td>\n",
       "      <td>&lt;a href=\"http://twitter.com/download/iphone\" r...</td>\n",
       "      <td>9774</td>\n",
       "      <td>41048</td>\n",
       "    </tr>\n",
       "  </tbody>\n",
       "</table>\n",
       "</div>"
      ],
      "text/plain": [
       "                   id            tweet_id  \\\n",
       "0  892420643555336193  892420643555336192   \n",
       "1  892177421306343426  892177421306343424   \n",
       "2  891815181378084864  891815181378084864   \n",
       "3  891689557279858688  891689557279858688   \n",
       "4  891327558926688256  891327558926688256   \n",
       "\n",
       "                                              source  retweet_count  \\\n",
       "0  <a href=\"http://twitter.com/download/iphone\" r...           8853   \n",
       "1  <a href=\"http://twitter.com/download/iphone\" r...           6514   \n",
       "2  <a href=\"http://twitter.com/download/iphone\" r...           4328   \n",
       "3  <a href=\"http://twitter.com/download/iphone\" r...           8964   \n",
       "4  <a href=\"http://twitter.com/download/iphone\" r...           9774   \n",
       "\n",
       "   favorite_count  \n",
       "0           39467  \n",
       "1           33819  \n",
       "2           25461  \n",
       "3           42908  \n",
       "4           41048  "
      ]
     },
     "execution_count": 212,
     "metadata": {},
     "output_type": "execute_result"
    }
   ],
   "source": [
    "tweet_df_copy.head()"
   ]
  },
  {
   "cell_type": "markdown",
   "id": "e1476db0",
   "metadata": {},
   "source": [
    "## 1- Defin"
   ]
  },
  {
   "cell_type": "markdown",
   "id": "8256c2f7",
   "metadata": {},
   "source": [
    "source mixed html tag,Rewrite the tweet source, from iphone,..etc"
   ]
  },
  {
   "cell_type": "markdown",
   "id": "a417d48b",
   "metadata": {},
   "source": [
    "## 2- Code"
   ]
  },
  {
   "cell_type": "code",
   "execution_count": 213,
   "id": "6b39012b",
   "metadata": {},
   "outputs": [
    {
     "name": "stderr",
     "output_type": "stream",
     "text": [
      "<ipython-input-213-e8bd23ea21e9>:1: FutureWarning: The default value of regex will change from True to False in a future version.\n",
      "  tweet_df_copy['source'] = tweet_df_copy[\"source\"].str.replace(r'<(?:a\\b[^>]*>|/a>)', '')\n"
     ]
    }
   ],
   "source": [
    "tweet_df_copy['source'] = tweet_df_copy[\"source\"].str.replace(r'<(?:a\\b[^>]*>|/a>)', '')"
   ]
  },
  {
   "cell_type": "markdown",
   "id": "8225f66d",
   "metadata": {},
   "source": [
    "## 3- Test"
   ]
  },
  {
   "cell_type": "code",
   "execution_count": 214,
   "id": "8296c219",
   "metadata": {},
   "outputs": [
    {
     "data": {
      "text/plain": [
       "Twitter for iPhone     2042\n",
       "Vine - Make a Scene      91\n",
       "Twitter Web Client       31\n",
       "TweetDeck                11\n",
       "Name: source, dtype: int64"
      ]
     },
     "execution_count": 214,
     "metadata": {},
     "output_type": "execute_result"
    }
   ],
   "source": [
    "tweet_df_copy['source'].value_counts()"
   ]
  },
  {
   "cell_type": "code",
   "execution_count": 215,
   "id": "aba59a5d",
   "metadata": {},
   "outputs": [
    {
     "data": {
      "text/html": [
       "<div>\n",
       "<style scoped>\n",
       "    .dataframe tbody tr th:only-of-type {\n",
       "        vertical-align: middle;\n",
       "    }\n",
       "\n",
       "    .dataframe tbody tr th {\n",
       "        vertical-align: top;\n",
       "    }\n",
       "\n",
       "    .dataframe thead th {\n",
       "        text-align: right;\n",
       "    }\n",
       "</style>\n",
       "<table border=\"1\" class=\"dataframe\">\n",
       "  <thead>\n",
       "    <tr style=\"text-align: right;\">\n",
       "      <th></th>\n",
       "      <th>id</th>\n",
       "      <th>tweet_id</th>\n",
       "      <th>source</th>\n",
       "      <th>retweet_count</th>\n",
       "      <th>favorite_count</th>\n",
       "    </tr>\n",
       "  </thead>\n",
       "  <tbody>\n",
       "    <tr>\n",
       "      <th>0</th>\n",
       "      <td>892420643555336193</td>\n",
       "      <td>892420643555336192</td>\n",
       "      <td>Twitter for iPhone</td>\n",
       "      <td>8853</td>\n",
       "      <td>39467</td>\n",
       "    </tr>\n",
       "    <tr>\n",
       "      <th>1</th>\n",
       "      <td>892177421306343426</td>\n",
       "      <td>892177421306343424</td>\n",
       "      <td>Twitter for iPhone</td>\n",
       "      <td>6514</td>\n",
       "      <td>33819</td>\n",
       "    </tr>\n",
       "  </tbody>\n",
       "</table>\n",
       "</div>"
      ],
      "text/plain": [
       "                   id            tweet_id              source  retweet_count  \\\n",
       "0  892420643555336193  892420643555336192  Twitter for iPhone           8853   \n",
       "1  892177421306343426  892177421306343424  Twitter for iPhone           6514   \n",
       "\n",
       "   favorite_count  \n",
       "0           39467  \n",
       "1           33819  "
      ]
     },
     "execution_count": 215,
     "metadata": {},
     "output_type": "execute_result"
    }
   ],
   "source": [
    "tweet_df_copy.head(2)"
   ]
  },
  {
   "cell_type": "markdown",
   "id": "eb51cd2c",
   "metadata": {},
   "source": [
    "# Gathering data  | merge all datasets"
   ]
  },
  {
   "cell_type": "code",
   "execution_count": 216,
   "id": "1544d67e",
   "metadata": {},
   "outputs": [
    {
     "data": {
      "text/html": [
       "<div>\n",
       "<style scoped>\n",
       "    .dataframe tbody tr th:only-of-type {\n",
       "        vertical-align: middle;\n",
       "    }\n",
       "\n",
       "    .dataframe tbody tr th {\n",
       "        vertical-align: top;\n",
       "    }\n",
       "\n",
       "    .dataframe thead th {\n",
       "        text-align: right;\n",
       "    }\n",
       "</style>\n",
       "<table border=\"1\" class=\"dataframe\">\n",
       "  <thead>\n",
       "    <tr style=\"text-align: right;\">\n",
       "      <th></th>\n",
       "      <th>tweet_id</th>\n",
       "      <th>tweet_date</th>\n",
       "      <th>text</th>\n",
       "      <th>name</th>\n",
       "      <th>stages_of_dogs</th>\n",
       "      <th>id</th>\n",
       "      <th>source</th>\n",
       "      <th>retweet_count</th>\n",
       "      <th>favorite_count</th>\n",
       "    </tr>\n",
       "  </thead>\n",
       "  <tbody>\n",
       "    <tr>\n",
       "      <th>0</th>\n",
       "      <td>892420643555336193</td>\n",
       "      <td>2017-08-01 16:23:56+00:00</td>\n",
       "      <td>This is Phineas. He's a mystical boy. Only eve...</td>\n",
       "      <td>Phineas</td>\n",
       "      <td>NaN</td>\n",
       "      <td>NaN</td>\n",
       "      <td>NaN</td>\n",
       "      <td>NaN</td>\n",
       "      <td>NaN</td>\n",
       "    </tr>\n",
       "    <tr>\n",
       "      <th>1</th>\n",
       "      <td>892177421306343426</td>\n",
       "      <td>2017-08-01 00:17:27+00:00</td>\n",
       "      <td>This is Tilly. She's just checking pup on you....</td>\n",
       "      <td>Tilly</td>\n",
       "      <td>NaN</td>\n",
       "      <td>NaN</td>\n",
       "      <td>NaN</td>\n",
       "      <td>NaN</td>\n",
       "      <td>NaN</td>\n",
       "    </tr>\n",
       "    <tr>\n",
       "      <th>2</th>\n",
       "      <td>891815181378084864</td>\n",
       "      <td>2017-07-31 00:18:03+00:00</td>\n",
       "      <td>This is Archie. He is a rare Norwegian Pouncin...</td>\n",
       "      <td>Archie</td>\n",
       "      <td>NaN</td>\n",
       "      <td>8.918152e+17</td>\n",
       "      <td>Twitter for iPhone</td>\n",
       "      <td>4328.0</td>\n",
       "      <td>25461.0</td>\n",
       "    </tr>\n",
       "    <tr>\n",
       "      <th>3</th>\n",
       "      <td>891689557279858688</td>\n",
       "      <td>2017-07-30 15:58:51+00:00</td>\n",
       "      <td>This is Darla. She commenced a snooze mid meal...</td>\n",
       "      <td>Darla</td>\n",
       "      <td>NaN</td>\n",
       "      <td>8.916896e+17</td>\n",
       "      <td>Twitter for iPhone</td>\n",
       "      <td>8964.0</td>\n",
       "      <td>42908.0</td>\n",
       "    </tr>\n",
       "    <tr>\n",
       "      <th>4</th>\n",
       "      <td>891327558926688256</td>\n",
       "      <td>2017-07-29 16:00:24+00:00</td>\n",
       "      <td>This is Franklin. He would like you to stop ca...</td>\n",
       "      <td>Franklin</td>\n",
       "      <td>NaN</td>\n",
       "      <td>8.913276e+17</td>\n",
       "      <td>Twitter for iPhone</td>\n",
       "      <td>9774.0</td>\n",
       "      <td>41048.0</td>\n",
       "    </tr>\n",
       "  </tbody>\n",
       "</table>\n",
       "</div>"
      ],
      "text/plain": [
       "             tweet_id                tweet_date  \\\n",
       "0  892420643555336193 2017-08-01 16:23:56+00:00   \n",
       "1  892177421306343426 2017-08-01 00:17:27+00:00   \n",
       "2  891815181378084864 2017-07-31 00:18:03+00:00   \n",
       "3  891689557279858688 2017-07-30 15:58:51+00:00   \n",
       "4  891327558926688256 2017-07-29 16:00:24+00:00   \n",
       "\n",
       "                                                text      name stages_of_dogs  \\\n",
       "0  This is Phineas. He's a mystical boy. Only eve...   Phineas            NaN   \n",
       "1  This is Tilly. She's just checking pup on you....     Tilly            NaN   \n",
       "2  This is Archie. He is a rare Norwegian Pouncin...    Archie            NaN   \n",
       "3  This is Darla. She commenced a snooze mid meal...     Darla            NaN   \n",
       "4  This is Franklin. He would like you to stop ca...  Franklin            NaN   \n",
       "\n",
       "             id              source  retweet_count  favorite_count  \n",
       "0           NaN                 NaN            NaN             NaN  \n",
       "1           NaN                 NaN            NaN             NaN  \n",
       "2  8.918152e+17  Twitter for iPhone         4328.0         25461.0  \n",
       "3  8.916896e+17  Twitter for iPhone         8964.0         42908.0  \n",
       "4  8.913276e+17  Twitter for iPhone         9774.0         41048.0  "
      ]
     },
     "execution_count": 216,
     "metadata": {},
     "output_type": "execute_result"
    }
   ],
   "source": [
    "merge_df = pd.merge(archive_df_copy,tweet_df_copy , on='tweet_id' , how ='left')\n",
    "merge_df.head(5)"
   ]
  },
  {
   "cell_type": "code",
   "execution_count": 217,
   "id": "7b799723",
   "metadata": {},
   "outputs": [
    {
     "data": {
      "text/html": [
       "<div>\n",
       "<style scoped>\n",
       "    .dataframe tbody tr th:only-of-type {\n",
       "        vertical-align: middle;\n",
       "    }\n",
       "\n",
       "    .dataframe tbody tr th {\n",
       "        vertical-align: top;\n",
       "    }\n",
       "\n",
       "    .dataframe thead th {\n",
       "        text-align: right;\n",
       "    }\n",
       "</style>\n",
       "<table border=\"1\" class=\"dataframe\">\n",
       "  <thead>\n",
       "    <tr style=\"text-align: right;\">\n",
       "      <th></th>\n",
       "      <th>tweet_id</th>\n",
       "      <th>tweet_date</th>\n",
       "      <th>text</th>\n",
       "      <th>name</th>\n",
       "      <th>stages_of_dogs</th>\n",
       "      <th>id</th>\n",
       "      <th>source</th>\n",
       "      <th>retweet_count</th>\n",
       "      <th>favorite_count</th>\n",
       "      <th>jpg_url</th>\n",
       "      <th>img_num</th>\n",
       "      <th>breed</th>\n",
       "    </tr>\n",
       "  </thead>\n",
       "  <tbody>\n",
       "    <tr>\n",
       "      <th>0</th>\n",
       "      <td>892420643555336193</td>\n",
       "      <td>2017-08-01 16:23:56+00:00</td>\n",
       "      <td>This is Phineas. He's a mystical boy. Only eve...</td>\n",
       "      <td>Phineas</td>\n",
       "      <td>NaN</td>\n",
       "      <td>NaN</td>\n",
       "      <td>NaN</td>\n",
       "      <td>NaN</td>\n",
       "      <td>NaN</td>\n",
       "      <td>https://pbs.twimg.com/media/DGKD1-bXoAAIAUK.jpg</td>\n",
       "      <td>1.0</td>\n",
       "      <td>NaN</td>\n",
       "    </tr>\n",
       "    <tr>\n",
       "      <th>1</th>\n",
       "      <td>892177421306343426</td>\n",
       "      <td>2017-08-01 00:17:27+00:00</td>\n",
       "      <td>This is Tilly. She's just checking pup on you....</td>\n",
       "      <td>Tilly</td>\n",
       "      <td>NaN</td>\n",
       "      <td>NaN</td>\n",
       "      <td>NaN</td>\n",
       "      <td>NaN</td>\n",
       "      <td>NaN</td>\n",
       "      <td>https://pbs.twimg.com/media/DGGmoV4XsAAUL6n.jpg</td>\n",
       "      <td>1.0</td>\n",
       "      <td>pekinese</td>\n",
       "    </tr>\n",
       "    <tr>\n",
       "      <th>2</th>\n",
       "      <td>891815181378084864</td>\n",
       "      <td>2017-07-31 00:18:03+00:00</td>\n",
       "      <td>This is Archie. He is a rare Norwegian Pouncin...</td>\n",
       "      <td>Archie</td>\n",
       "      <td>NaN</td>\n",
       "      <td>8.918152e+17</td>\n",
       "      <td>Twitter for iPhone</td>\n",
       "      <td>4328.0</td>\n",
       "      <td>25461.0</td>\n",
       "      <td>https://pbs.twimg.com/media/DGBdLU1WsAANxJ9.jpg</td>\n",
       "      <td>1.0</td>\n",
       "      <td>malamute</td>\n",
       "    </tr>\n",
       "    <tr>\n",
       "      <th>3</th>\n",
       "      <td>891689557279858688</td>\n",
       "      <td>2017-07-30 15:58:51+00:00</td>\n",
       "      <td>This is Darla. She commenced a snooze mid meal...</td>\n",
       "      <td>Darla</td>\n",
       "      <td>NaN</td>\n",
       "      <td>8.916896e+17</td>\n",
       "      <td>Twitter for iPhone</td>\n",
       "      <td>8964.0</td>\n",
       "      <td>42908.0</td>\n",
       "      <td>https://pbs.twimg.com/media/DF_q7IAWsAEuuN8.jpg</td>\n",
       "      <td>1.0</td>\n",
       "      <td>labrador_retriever</td>\n",
       "    </tr>\n",
       "    <tr>\n",
       "      <th>4</th>\n",
       "      <td>891327558926688256</td>\n",
       "      <td>2017-07-29 16:00:24+00:00</td>\n",
       "      <td>This is Franklin. He would like you to stop ca...</td>\n",
       "      <td>Franklin</td>\n",
       "      <td>NaN</td>\n",
       "      <td>8.913276e+17</td>\n",
       "      <td>Twitter for iPhone</td>\n",
       "      <td>9774.0</td>\n",
       "      <td>41048.0</td>\n",
       "      <td>https://pbs.twimg.com/media/DF6hr6BUMAAzZgT.jpg</td>\n",
       "      <td>2.0</td>\n",
       "      <td>english_springer</td>\n",
       "    </tr>\n",
       "  </tbody>\n",
       "</table>\n",
       "</div>"
      ],
      "text/plain": [
       "             tweet_id                tweet_date  \\\n",
       "0  892420643555336193 2017-08-01 16:23:56+00:00   \n",
       "1  892177421306343426 2017-08-01 00:17:27+00:00   \n",
       "2  891815181378084864 2017-07-31 00:18:03+00:00   \n",
       "3  891689557279858688 2017-07-30 15:58:51+00:00   \n",
       "4  891327558926688256 2017-07-29 16:00:24+00:00   \n",
       "\n",
       "                                                text      name stages_of_dogs  \\\n",
       "0  This is Phineas. He's a mystical boy. Only eve...   Phineas            NaN   \n",
       "1  This is Tilly. She's just checking pup on you....     Tilly            NaN   \n",
       "2  This is Archie. He is a rare Norwegian Pouncin...    Archie            NaN   \n",
       "3  This is Darla. She commenced a snooze mid meal...     Darla            NaN   \n",
       "4  This is Franklin. He would like you to stop ca...  Franklin            NaN   \n",
       "\n",
       "             id              source  retweet_count  favorite_count  \\\n",
       "0           NaN                 NaN            NaN             NaN   \n",
       "1           NaN                 NaN            NaN             NaN   \n",
       "2  8.918152e+17  Twitter for iPhone         4328.0         25461.0   \n",
       "3  8.916896e+17  Twitter for iPhone         8964.0         42908.0   \n",
       "4  8.913276e+17  Twitter for iPhone         9774.0         41048.0   \n",
       "\n",
       "                                           jpg_url  img_num  \\\n",
       "0  https://pbs.twimg.com/media/DGKD1-bXoAAIAUK.jpg      1.0   \n",
       "1  https://pbs.twimg.com/media/DGGmoV4XsAAUL6n.jpg      1.0   \n",
       "2  https://pbs.twimg.com/media/DGBdLU1WsAANxJ9.jpg      1.0   \n",
       "3  https://pbs.twimg.com/media/DF_q7IAWsAEuuN8.jpg      1.0   \n",
       "4  https://pbs.twimg.com/media/DF6hr6BUMAAzZgT.jpg      2.0   \n",
       "\n",
       "                breed  \n",
       "0                 NaN  \n",
       "1            pekinese  \n",
       "2            malamute  \n",
       "3  labrador_retriever  \n",
       "4    english_springer  "
      ]
     },
     "execution_count": 217,
     "metadata": {},
     "output_type": "execute_result"
    }
   ],
   "source": [
    "merge_df = pd.merge(merge_df,images_df_copy,on='tweet_id',how='left')\n",
    "merge_df.head(5)"
   ]
  },
  {
   "cell_type": "code",
   "execution_count": 218,
   "id": "dec5f320",
   "metadata": {},
   "outputs": [],
   "source": [
    "#Create a copy \n",
    "merge_df_clean = merge_df.copy()"
   ]
  },
  {
   "cell_type": "code",
   "execution_count": 219,
   "id": "ee977561",
   "metadata": {},
   "outputs": [
    {
     "name": "stdout",
     "output_type": "stream",
     "text": [
      "<class 'pandas.core.frame.DataFrame'>\n",
      "Int64Index: 2356 entries, 0 to 2355\n",
      "Data columns (total 12 columns):\n",
      " #   Column          Non-Null Count  Dtype              \n",
      "---  ------          --------------  -----              \n",
      " 0   tweet_id        2356 non-null   object             \n",
      " 1   tweet_date      2356 non-null   datetime64[ns, UTC]\n",
      " 2   text            2356 non-null   object             \n",
      " 3   name            2356 non-null   object             \n",
      " 4   stages_of_dogs  399 non-null    object             \n",
      " 5   id              1420 non-null   float64            \n",
      " 6   source          1420 non-null   object             \n",
      " 7   retweet_count   1420 non-null   float64            \n",
      " 8   favorite_count  1420 non-null   float64            \n",
      " 9   jpg_url         2075 non-null   object             \n",
      " 10  img_num         2075 non-null   float64            \n",
      " 11  breed           1708 non-null   object             \n",
      "dtypes: datetime64[ns, UTC](1), float64(4), object(7)\n",
      "memory usage: 239.3+ KB\n"
     ]
    }
   ],
   "source": [
    "merge_df_clean.info()"
   ]
  },
  {
   "cell_type": "code",
   "execution_count": 220,
   "id": "b7b6bdde",
   "metadata": {},
   "outputs": [
    {
     "data": {
      "text/plain": [
       "0"
      ]
     },
     "execution_count": 220,
     "metadata": {},
     "output_type": "execute_result"
    }
   ],
   "source": [
    "#cheack duplication\n",
    "merge_df_clean.tweet_id.duplicated().sum()"
   ]
  },
  {
   "cell_type": "code",
   "execution_count": 221,
   "id": "9c0ce497",
   "metadata": {},
   "outputs": [
    {
     "name": "stdout",
     "output_type": "stream",
     "text": [
      "<class 'pandas.core.frame.DataFrame'>\n",
      "Int64Index: 2356 entries, 0 to 2355\n",
      "Data columns (total 12 columns):\n",
      " #   Column          Non-Null Count  Dtype              \n",
      "---  ------          --------------  -----              \n",
      " 0   tweet_id        2356 non-null   object             \n",
      " 1   tweet_date      2356 non-null   datetime64[ns, UTC]\n",
      " 2   text            2356 non-null   object             \n",
      " 3   name            2356 non-null   object             \n",
      " 4   stages_of_dogs  399 non-null    object             \n",
      " 5   id              1420 non-null   float64            \n",
      " 6   source          1420 non-null   object             \n",
      " 7   retweet_count   1420 non-null   float64            \n",
      " 8   favorite_count  1420 non-null   float64            \n",
      " 9   jpg_url         2075 non-null   object             \n",
      " 10  img_num         2075 non-null   float64            \n",
      " 11  breed           1708 non-null   object             \n",
      "dtypes: datetime64[ns, UTC](1), float64(4), object(7)\n",
      "memory usage: 239.3+ KB\n"
     ]
    }
   ],
   "source": [
    "merge_df_clean.info()"
   ]
  },
  {
   "cell_type": "code",
   "execution_count": 222,
   "id": "92ceef82",
   "metadata": {},
   "outputs": [
    {
     "data": {
      "text/html": [
       "<div>\n",
       "<style scoped>\n",
       "    .dataframe tbody tr th:only-of-type {\n",
       "        vertical-align: middle;\n",
       "    }\n",
       "\n",
       "    .dataframe tbody tr th {\n",
       "        vertical-align: top;\n",
       "    }\n",
       "\n",
       "    .dataframe thead th {\n",
       "        text-align: right;\n",
       "    }\n",
       "</style>\n",
       "<table border=\"1\" class=\"dataframe\">\n",
       "  <thead>\n",
       "    <tr style=\"text-align: right;\">\n",
       "      <th></th>\n",
       "      <th>tweet_id</th>\n",
       "      <th>tweet_date</th>\n",
       "      <th>text</th>\n",
       "      <th>name</th>\n",
       "      <th>stages_of_dogs</th>\n",
       "      <th>id</th>\n",
       "      <th>source</th>\n",
       "      <th>retweet_count</th>\n",
       "      <th>favorite_count</th>\n",
       "      <th>jpg_url</th>\n",
       "      <th>img_num</th>\n",
       "      <th>breed</th>\n",
       "    </tr>\n",
       "  </thead>\n",
       "  <tbody>\n",
       "    <tr>\n",
       "      <th>0</th>\n",
       "      <td>892420643555336193</td>\n",
       "      <td>2017-08-01 16:23:56+00:00</td>\n",
       "      <td>This is Phineas. He's a mystical boy. Only eve...</td>\n",
       "      <td>Phineas</td>\n",
       "      <td>NaN</td>\n",
       "      <td>NaN</td>\n",
       "      <td>NaN</td>\n",
       "      <td>NaN</td>\n",
       "      <td>NaN</td>\n",
       "      <td>https://pbs.twimg.com/media/DGKD1-bXoAAIAUK.jpg</td>\n",
       "      <td>1.0</td>\n",
       "      <td>NaN</td>\n",
       "    </tr>\n",
       "    <tr>\n",
       "      <th>1</th>\n",
       "      <td>892177421306343426</td>\n",
       "      <td>2017-08-01 00:17:27+00:00</td>\n",
       "      <td>This is Tilly. She's just checking pup on you....</td>\n",
       "      <td>Tilly</td>\n",
       "      <td>NaN</td>\n",
       "      <td>NaN</td>\n",
       "      <td>NaN</td>\n",
       "      <td>NaN</td>\n",
       "      <td>NaN</td>\n",
       "      <td>https://pbs.twimg.com/media/DGGmoV4XsAAUL6n.jpg</td>\n",
       "      <td>1.0</td>\n",
       "      <td>pekinese</td>\n",
       "    </tr>\n",
       "    <tr>\n",
       "      <th>2</th>\n",
       "      <td>891815181378084864</td>\n",
       "      <td>2017-07-31 00:18:03+00:00</td>\n",
       "      <td>This is Archie. He is a rare Norwegian Pouncin...</td>\n",
       "      <td>Archie</td>\n",
       "      <td>NaN</td>\n",
       "      <td>8.918152e+17</td>\n",
       "      <td>Twitter for iPhone</td>\n",
       "      <td>4328.0</td>\n",
       "      <td>25461.0</td>\n",
       "      <td>https://pbs.twimg.com/media/DGBdLU1WsAANxJ9.jpg</td>\n",
       "      <td>1.0</td>\n",
       "      <td>malamute</td>\n",
       "    </tr>\n",
       "    <tr>\n",
       "      <th>3</th>\n",
       "      <td>891689557279858688</td>\n",
       "      <td>2017-07-30 15:58:51+00:00</td>\n",
       "      <td>This is Darla. She commenced a snooze mid meal...</td>\n",
       "      <td>Darla</td>\n",
       "      <td>NaN</td>\n",
       "      <td>8.916896e+17</td>\n",
       "      <td>Twitter for iPhone</td>\n",
       "      <td>8964.0</td>\n",
       "      <td>42908.0</td>\n",
       "      <td>https://pbs.twimg.com/media/DF_q7IAWsAEuuN8.jpg</td>\n",
       "      <td>1.0</td>\n",
       "      <td>labrador_retriever</td>\n",
       "    </tr>\n",
       "    <tr>\n",
       "      <th>4</th>\n",
       "      <td>891327558926688256</td>\n",
       "      <td>2017-07-29 16:00:24+00:00</td>\n",
       "      <td>This is Franklin. He would like you to stop ca...</td>\n",
       "      <td>Franklin</td>\n",
       "      <td>NaN</td>\n",
       "      <td>8.913276e+17</td>\n",
       "      <td>Twitter for iPhone</td>\n",
       "      <td>9774.0</td>\n",
       "      <td>41048.0</td>\n",
       "      <td>https://pbs.twimg.com/media/DF6hr6BUMAAzZgT.jpg</td>\n",
       "      <td>2.0</td>\n",
       "      <td>english_springer</td>\n",
       "    </tr>\n",
       "  </tbody>\n",
       "</table>\n",
       "</div>"
      ],
      "text/plain": [
       "             tweet_id                tweet_date  \\\n",
       "0  892420643555336193 2017-08-01 16:23:56+00:00   \n",
       "1  892177421306343426 2017-08-01 00:17:27+00:00   \n",
       "2  891815181378084864 2017-07-31 00:18:03+00:00   \n",
       "3  891689557279858688 2017-07-30 15:58:51+00:00   \n",
       "4  891327558926688256 2017-07-29 16:00:24+00:00   \n",
       "\n",
       "                                                text      name stages_of_dogs  \\\n",
       "0  This is Phineas. He's a mystical boy. Only eve...   Phineas            NaN   \n",
       "1  This is Tilly. She's just checking pup on you....     Tilly            NaN   \n",
       "2  This is Archie. He is a rare Norwegian Pouncin...    Archie            NaN   \n",
       "3  This is Darla. She commenced a snooze mid meal...     Darla            NaN   \n",
       "4  This is Franklin. He would like you to stop ca...  Franklin            NaN   \n",
       "\n",
       "             id              source  retweet_count  favorite_count  \\\n",
       "0           NaN                 NaN            NaN             NaN   \n",
       "1           NaN                 NaN            NaN             NaN   \n",
       "2  8.918152e+17  Twitter for iPhone         4328.0         25461.0   \n",
       "3  8.916896e+17  Twitter for iPhone         8964.0         42908.0   \n",
       "4  8.913276e+17  Twitter for iPhone         9774.0         41048.0   \n",
       "\n",
       "                                           jpg_url  img_num  \\\n",
       "0  https://pbs.twimg.com/media/DGKD1-bXoAAIAUK.jpg      1.0   \n",
       "1  https://pbs.twimg.com/media/DGGmoV4XsAAUL6n.jpg      1.0   \n",
       "2  https://pbs.twimg.com/media/DGBdLU1WsAANxJ9.jpg      1.0   \n",
       "3  https://pbs.twimg.com/media/DF_q7IAWsAEuuN8.jpg      1.0   \n",
       "4  https://pbs.twimg.com/media/DF6hr6BUMAAzZgT.jpg      2.0   \n",
       "\n",
       "                breed  \n",
       "0                 NaN  \n",
       "1            pekinese  \n",
       "2            malamute  \n",
       "3  labrador_retriever  \n",
       "4    english_springer  "
      ]
     },
     "execution_count": 222,
     "metadata": {},
     "output_type": "execute_result"
    }
   ],
   "source": [
    "merge_df_clean.head(5)"
   ]
  },
  {
   "cell_type": "markdown",
   "id": "b72501a3",
   "metadata": {},
   "source": [
    "# Insight and observasions:"
   ]
  },
  {
   "cell_type": "code",
   "execution_count": 223,
   "id": "7dc0cc82",
   "metadata": {},
   "outputs": [
    {
     "data": {
      "text/html": [
       "<div>\n",
       "<style scoped>\n",
       "    .dataframe tbody tr th:only-of-type {\n",
       "        vertical-align: middle;\n",
       "    }\n",
       "\n",
       "    .dataframe tbody tr th {\n",
       "        vertical-align: top;\n",
       "    }\n",
       "\n",
       "    .dataframe thead th {\n",
       "        text-align: right;\n",
       "    }\n",
       "</style>\n",
       "<table border=\"1\" class=\"dataframe\">\n",
       "  <thead>\n",
       "    <tr style=\"text-align: right;\">\n",
       "      <th></th>\n",
       "      <th>tweet_id</th>\n",
       "      <th>tweet_date</th>\n",
       "      <th>text</th>\n",
       "      <th>name</th>\n",
       "      <th>stages_of_dogs</th>\n",
       "      <th>id</th>\n",
       "      <th>source</th>\n",
       "      <th>retweet_count</th>\n",
       "      <th>favorite_count</th>\n",
       "      <th>jpg_url</th>\n",
       "      <th>img_num</th>\n",
       "      <th>breed</th>\n",
       "    </tr>\n",
       "  </thead>\n",
       "  <tbody>\n",
       "    <tr>\n",
       "      <th>0</th>\n",
       "      <td>892420643555336193</td>\n",
       "      <td>2017-08-01 16:23:56+00:00</td>\n",
       "      <td>This is Phineas. He's a mystical boy. Only eve...</td>\n",
       "      <td>Phineas</td>\n",
       "      <td>NaN</td>\n",
       "      <td>NaN</td>\n",
       "      <td>NaN</td>\n",
       "      <td>NaN</td>\n",
       "      <td>NaN</td>\n",
       "      <td>https://pbs.twimg.com/media/DGKD1-bXoAAIAUK.jpg</td>\n",
       "      <td>1.0</td>\n",
       "      <td>NaN</td>\n",
       "    </tr>\n",
       "    <tr>\n",
       "      <th>1</th>\n",
       "      <td>892177421306343426</td>\n",
       "      <td>2017-08-01 00:17:27+00:00</td>\n",
       "      <td>This is Tilly. She's just checking pup on you....</td>\n",
       "      <td>Tilly</td>\n",
       "      <td>NaN</td>\n",
       "      <td>NaN</td>\n",
       "      <td>NaN</td>\n",
       "      <td>NaN</td>\n",
       "      <td>NaN</td>\n",
       "      <td>https://pbs.twimg.com/media/DGGmoV4XsAAUL6n.jpg</td>\n",
       "      <td>1.0</td>\n",
       "      <td>pekinese</td>\n",
       "    </tr>\n",
       "    <tr>\n",
       "      <th>2</th>\n",
       "      <td>891815181378084864</td>\n",
       "      <td>2017-07-31 00:18:03+00:00</td>\n",
       "      <td>This is Archie. He is a rare Norwegian Pouncin...</td>\n",
       "      <td>Archie</td>\n",
       "      <td>NaN</td>\n",
       "      <td>8.918152e+17</td>\n",
       "      <td>Twitter for iPhone</td>\n",
       "      <td>4328.0</td>\n",
       "      <td>25461.0</td>\n",
       "      <td>https://pbs.twimg.com/media/DGBdLU1WsAANxJ9.jpg</td>\n",
       "      <td>1.0</td>\n",
       "      <td>malamute</td>\n",
       "    </tr>\n",
       "    <tr>\n",
       "      <th>3</th>\n",
       "      <td>891689557279858688</td>\n",
       "      <td>2017-07-30 15:58:51+00:00</td>\n",
       "      <td>This is Darla. She commenced a snooze mid meal...</td>\n",
       "      <td>Darla</td>\n",
       "      <td>NaN</td>\n",
       "      <td>8.916896e+17</td>\n",
       "      <td>Twitter for iPhone</td>\n",
       "      <td>8964.0</td>\n",
       "      <td>42908.0</td>\n",
       "      <td>https://pbs.twimg.com/media/DF_q7IAWsAEuuN8.jpg</td>\n",
       "      <td>1.0</td>\n",
       "      <td>labrador_retriever</td>\n",
       "    </tr>\n",
       "    <tr>\n",
       "      <th>4</th>\n",
       "      <td>891327558926688256</td>\n",
       "      <td>2017-07-29 16:00:24+00:00</td>\n",
       "      <td>This is Franklin. He would like you to stop ca...</td>\n",
       "      <td>Franklin</td>\n",
       "      <td>NaN</td>\n",
       "      <td>8.913276e+17</td>\n",
       "      <td>Twitter for iPhone</td>\n",
       "      <td>9774.0</td>\n",
       "      <td>41048.0</td>\n",
       "      <td>https://pbs.twimg.com/media/DF6hr6BUMAAzZgT.jpg</td>\n",
       "      <td>2.0</td>\n",
       "      <td>english_springer</td>\n",
       "    </tr>\n",
       "  </tbody>\n",
       "</table>\n",
       "</div>"
      ],
      "text/plain": [
       "             tweet_id                tweet_date  \\\n",
       "0  892420643555336193 2017-08-01 16:23:56+00:00   \n",
       "1  892177421306343426 2017-08-01 00:17:27+00:00   \n",
       "2  891815181378084864 2017-07-31 00:18:03+00:00   \n",
       "3  891689557279858688 2017-07-30 15:58:51+00:00   \n",
       "4  891327558926688256 2017-07-29 16:00:24+00:00   \n",
       "\n",
       "                                                text      name stages_of_dogs  \\\n",
       "0  This is Phineas. He's a mystical boy. Only eve...   Phineas            NaN   \n",
       "1  This is Tilly. She's just checking pup on you....     Tilly            NaN   \n",
       "2  This is Archie. He is a rare Norwegian Pouncin...    Archie            NaN   \n",
       "3  This is Darla. She commenced a snooze mid meal...     Darla            NaN   \n",
       "4  This is Franklin. He would like you to stop ca...  Franklin            NaN   \n",
       "\n",
       "             id              source  retweet_count  favorite_count  \\\n",
       "0           NaN                 NaN            NaN             NaN   \n",
       "1           NaN                 NaN            NaN             NaN   \n",
       "2  8.918152e+17  Twitter for iPhone         4328.0         25461.0   \n",
       "3  8.916896e+17  Twitter for iPhone         8964.0         42908.0   \n",
       "4  8.913276e+17  Twitter for iPhone         9774.0         41048.0   \n",
       "\n",
       "                                           jpg_url  img_num  \\\n",
       "0  https://pbs.twimg.com/media/DGKD1-bXoAAIAUK.jpg      1.0   \n",
       "1  https://pbs.twimg.com/media/DGGmoV4XsAAUL6n.jpg      1.0   \n",
       "2  https://pbs.twimg.com/media/DGBdLU1WsAANxJ9.jpg      1.0   \n",
       "3  https://pbs.twimg.com/media/DF_q7IAWsAEuuN8.jpg      1.0   \n",
       "4  https://pbs.twimg.com/media/DF6hr6BUMAAzZgT.jpg      2.0   \n",
       "\n",
       "                breed  \n",
       "0                 NaN  \n",
       "1            pekinese  \n",
       "2            malamute  \n",
       "3  labrador_retriever  \n",
       "4    english_springer  "
      ]
     },
     "execution_count": 223,
     "metadata": {},
     "output_type": "execute_result"
    }
   ],
   "source": [
    "merge_df_clean.head(5)"
   ]
  },
  {
   "cell_type": "code",
   "execution_count": 224,
   "id": "e384614a",
   "metadata": {},
   "outputs": [
    {
     "data": {
      "text/html": [
       "<div>\n",
       "<style scoped>\n",
       "    .dataframe tbody tr th:only-of-type {\n",
       "        vertical-align: middle;\n",
       "    }\n",
       "\n",
       "    .dataframe tbody tr th {\n",
       "        vertical-align: top;\n",
       "    }\n",
       "\n",
       "    .dataframe thead th {\n",
       "        text-align: right;\n",
       "    }\n",
       "</style>\n",
       "<table border=\"1\" class=\"dataframe\">\n",
       "  <thead>\n",
       "    <tr style=\"text-align: right;\">\n",
       "      <th></th>\n",
       "      <th>id</th>\n",
       "      <th>retweet_count</th>\n",
       "      <th>favorite_count</th>\n",
       "      <th>img_num</th>\n",
       "    </tr>\n",
       "  </thead>\n",
       "  <tbody>\n",
       "    <tr>\n",
       "      <th>count</th>\n",
       "      <td>1.420000e+03</td>\n",
       "      <td>1420.000000</td>\n",
       "      <td>1420.000000</td>\n",
       "      <td>2075.000000</td>\n",
       "    </tr>\n",
       "    <tr>\n",
       "      <th>mean</th>\n",
       "      <td>7.341193e+17</td>\n",
       "      <td>2603.376761</td>\n",
       "      <td>8287.144366</td>\n",
       "      <td>1.203855</td>\n",
       "    </tr>\n",
       "    <tr>\n",
       "      <th>std</th>\n",
       "      <td>6.617821e+16</td>\n",
       "      <td>4049.137824</td>\n",
       "      <td>11141.534237</td>\n",
       "      <td>0.561875</td>\n",
       "    </tr>\n",
       "    <tr>\n",
       "      <th>min</th>\n",
       "      <td>6.660293e+17</td>\n",
       "      <td>2.000000</td>\n",
       "      <td>52.000000</td>\n",
       "      <td>1.000000</td>\n",
       "    </tr>\n",
       "    <tr>\n",
       "      <th>25%</th>\n",
       "      <td>6.757639e+17</td>\n",
       "      <td>578.500000</td>\n",
       "      <td>1786.750000</td>\n",
       "      <td>1.000000</td>\n",
       "    </tr>\n",
       "    <tr>\n",
       "      <th>50%</th>\n",
       "      <td>7.075988e+17</td>\n",
       "      <td>1311.000000</td>\n",
       "      <td>3903.000000</td>\n",
       "      <td>1.000000</td>\n",
       "    </tr>\n",
       "    <tr>\n",
       "      <th>75%</th>\n",
       "      <td>7.809896e+17</td>\n",
       "      <td>3103.750000</td>\n",
       "      <td>10280.000000</td>\n",
       "      <td>1.000000</td>\n",
       "    </tr>\n",
       "    <tr>\n",
       "      <th>max</th>\n",
       "      <td>8.918152e+17</td>\n",
       "      <td>56625.000000</td>\n",
       "      <td>107015.000000</td>\n",
       "      <td>4.000000</td>\n",
       "    </tr>\n",
       "  </tbody>\n",
       "</table>\n",
       "</div>"
      ],
      "text/plain": [
       "                 id  retweet_count  favorite_count      img_num\n",
       "count  1.420000e+03    1420.000000     1420.000000  2075.000000\n",
       "mean   7.341193e+17    2603.376761     8287.144366     1.203855\n",
       "std    6.617821e+16    4049.137824    11141.534237     0.561875\n",
       "min    6.660293e+17       2.000000       52.000000     1.000000\n",
       "25%    6.757639e+17     578.500000     1786.750000     1.000000\n",
       "50%    7.075988e+17    1311.000000     3903.000000     1.000000\n",
       "75%    7.809896e+17    3103.750000    10280.000000     1.000000\n",
       "max    8.918152e+17   56625.000000   107015.000000     4.000000"
      ]
     },
     "execution_count": 224,
     "metadata": {},
     "output_type": "execute_result"
    }
   ],
   "source": [
    "merge_df_clean.describe()"
   ]
  },
  {
   "cell_type": "markdown",
   "id": "e5edeb71",
   "metadata": {},
   "source": [
    "- The largest number of retweets is 56625\n",
    "- and The favorite it is equal to 107015"
   ]
  },
  {
   "cell_type": "markdown",
   "id": "01b8ecba",
   "metadata": {},
   "source": [
    "# Storing data"
   ]
  },
  {
   "cell_type": "code",
   "execution_count": 225,
   "id": "286524a9",
   "metadata": {},
   "outputs": [],
   "source": [
    "merge_df_clean.to_csv('twitter_archive_master_.csv',index=False)"
   ]
  },
  {
   "cell_type": "markdown",
   "id": "f756a834",
   "metadata": {},
   "source": [
    "# Analyzing and Visualizing Data"
   ]
  },
  {
   "cell_type": "markdown",
   "id": "303a4617",
   "metadata": {},
   "source": [
    "## -1 what is the number of Tweets per month?"
   ]
  },
  {
   "cell_type": "code",
   "execution_count": 226,
   "id": "84232c77",
   "metadata": {},
   "outputs": [
    {
     "data": {
      "text/plain": [
       "['08/2017', '08/2017', '07/2017', '07/2017', '07/2017']"
      ]
     },
     "execution_count": 226,
     "metadata": {},
     "output_type": "execute_result"
    }
   ],
   "source": [
    "month_year = []\n",
    "\n",
    "# using datetime method strftime to extract month and year\n",
    "for i in merge_df_clean.index:\n",
    "    month_year.append(merge_df_clean['tweet_date'][i].strftime(\"%m/%Y\"))\n",
    "month_year[0:5]"
   ]
  },
  {
   "cell_type": "code",
   "execution_count": 227,
   "id": "2d27d1b5",
   "metadata": {},
   "outputs": [
    {
     "data": {
      "text/plain": [
       "0       08/2017\n",
       "1       08/2017\n",
       "2       07/2017\n",
       "3       07/2017\n",
       "4       07/2017\n",
       "         ...   \n",
       "2351    11/2015\n",
       "2352    11/2015\n",
       "2353    11/2015\n",
       "2354    11/2015\n",
       "2355    11/2015\n",
       "Name: created_at, Length: 2356, dtype: object"
      ]
     },
     "execution_count": 227,
     "metadata": {},
     "output_type": "execute_result"
    }
   ],
   "source": [
    "# assign it to created_at list\n",
    "merge_df_clean['created_at'] = month_year\n",
    "merge_df_clean['created_at']"
   ]
  },
  {
   "cell_type": "code",
   "execution_count": 228,
   "id": "3e44f048",
   "metadata": {},
   "outputs": [
    {
     "data": {
      "text/plain": [
       "tweet_date  tweet_date\n",
       "1           2016          194\n",
       "            2017           94\n",
       "2           2016          125\n",
       "            2017           88\n",
       "3           2016          137\n",
       "Name: tweet_id, dtype: int64"
      ]
     },
     "execution_count": 228,
     "metadata": {},
     "output_type": "execute_result"
    }
   ],
   "source": [
    "retweet_NUM= merge_df_clean['tweet_id'].groupby([merge_df['tweet_date'].dt.month, merge_df['tweet_date'].dt.year]).count()\n",
    "retweet_NUM.head()"
   ]
  },
  {
   "cell_type": "code",
   "execution_count": 229,
   "id": "3fa16a13",
   "metadata": {},
   "outputs": [
    {
     "data": {
      "text/plain": [
       "Text(0.5, 1.0, 'number of Tweets per month')"
      ]
     },
     "execution_count": 229,
     "metadata": {},
     "output_type": "execute_result"
    },
    {
     "data": {
      "image/png": "[encoded data removed]",
      "text/plain": [
       "<Figure size 720x360 with 1 Axes>"
      ]
     },
     "metadata": {
      "needs_background": "light"
     },
     "output_type": "display_data"
    }
   ],
   "source": [
    "retweet_NUM.plot.line(figsize=(10,5))\n",
    "plt.xlabel('Month')\n",
    "plt.ylabel('Number of Tweets')\n",
    "plt.title('number of Tweets per month', size=20 )"
   ]
  },
  {
   "cell_type": "markdown",
   "id": "0a84370d",
   "metadata": {},
   "source": [
    "## -2 What is the most used source?"
   ]
  },
  {
   "cell_type": "code",
   "execution_count": 230,
   "id": "e131d77d",
   "metadata": {},
   "outputs": [
    {
     "data": {
      "text/plain": [
       "<AxesSubplot:title={'center':'Sources of Tweet'}, xlabel='source', ylabel='count'>"
      ]
     },
     "execution_count": 230,
     "metadata": {},
     "output_type": "execute_result"
    },
    {
     "data": {
      "image/png": "[encoded data removed]",
      "text/plain": [
       "<Figure size 432x288 with 1 Axes>"
      ]
     },
     "metadata": {
      "needs_background": "light"
     },
     "output_type": "display_data"
    }
   ],
   "source": [
    "plt.title('Sources of Tweet', size=20)\n",
    "sns.countplot(data=merge_df_clean, x='source')"
   ]
  },
  {
   "cell_type": "markdown",
   "id": "2fc35b97",
   "metadata": {},
   "source": [
    "## -3 what is the Top 3 frequent dog breed?"
   ]
  },
  {
   "cell_type": "code",
   "execution_count": 231,
   "id": "f1c1f0f0",
   "metadata": {},
   "outputs": [
    {
     "data": {
      "text/plain": [
       "labrador_retriever    110\n",
       "golden_retriever      103\n",
       "cardigan               76\n",
       "Name: breed, dtype: int64"
      ]
     },
     "execution_count": 231,
     "metadata": {},
     "output_type": "execute_result"
    }
   ],
   "source": [
    "merge_df_clean['breed'].value_counts()[0:3].sort_values(ascending=False)"
   ]
  },
  {
   "cell_type": "code",
   "execution_count": 232,
   "id": "62d7fa06",
   "metadata": {},
   "outputs": [
    {
     "data": {
      "text/plain": [
       "Text(0.5, 1.0, 'Top 3 frequent dog breed')"
      ]
     },
     "execution_count": 232,
     "metadata": {},
     "output_type": "execute_result"
    },
    {
     "data": {
      "image/png": "[encoded data removed]",
      "text/plain": [
       "<Figure size 432x288 with 1 Axes>"
      ]
     },
     "metadata": {
      "needs_background": "light"
     },
     "output_type": "display_data"
    }
   ],
   "source": [
    "merge_df_clean['breed'].value_counts()[0:3].sort_values(ascending=False).plot(kind ='bar')\n",
    "plt.ylabel('Number of Dogs')\n",
    "plt.xlabel('Dog breed')\n",
    "plt.title('Top 3 frequent dog breed', size=20)"
   ]
  },
  {
   "cell_type": "markdown",
   "id": "65770bf2",
   "metadata": {},
   "source": [
    "## -4 What is the most stage of doges?"
   ]
  },
  {
   "cell_type": "code",
   "execution_count": 233,
   "id": "698ccc14",
   "metadata": {},
   "outputs": [
    {
     "data": {
      "image/png": "[encoded data removed]",
      "text/plain": [
       "<Figure size 360x432 with 1 Axes>"
      ]
     },
     "metadata": {},
     "output_type": "display_data"
    }
   ],
   "source": [
    "merge_df_clean.stages_of_dogs.value_counts().plot.pie(figsize=(5,6), autopct='%.4f%%')\n",
    "plt.title('stages of dogs')\n",
    "plt.show()"
   ]
  },
  {
   "cell_type": "markdown",
   "id": "b6c395eb",
   "metadata": {},
   "source": [
    "# -5 compare Between favorite counts & retweet counts ?"
   ]
  },
  {
   "cell_type": "code",
   "execution_count": 234,
   "id": "7b168255",
   "metadata": {},
   "outputs": [
    {
     "name": "stderr",
     "output_type": "stream",
     "text": [
      "/Users/nadaabdullah/opt/anaconda3/lib/python3.8/site-packages/seaborn/axisgrid.py:2073: UserWarning: The `size` parameter has been renamed to `height`; please update your code.\n",
      "  warnings.warn(msg, UserWarning)\n",
      "<ipython-input-234-870f3a553b94>:8: MatplotlibDeprecationWarning: Case-insensitive properties were deprecated in 3.3 and support will be removed two minor releases later\n",
      "  plt.suptitle('compare Between favorite counts & retweet counts ', Fontsize =11);\n"
     ]
    },
    {
     "data": {
      "image/png": "[encoded data removed]",
      "text/plain": [
       "<Figure size 504x504 with 3 Axes>"
      ]
     },
     "metadata": {},
     "output_type": "display_data"
    }
   ],
   "source": [
    "#Visualization\n",
    "sns.set_style('white')\n",
    "compare= sns.jointplot(data=merge_df_clean,x=\"retweet_count\", y=\"favorite_count\",kind=\"kde\", color=\"pink\", size=7)\n",
    "compare.plot_joint(plt.scatter, marker=\".\",s=80,alpha=0.45, c=\"blue\", linewidth=2)\n",
    "compare.fig.subplots_adjust(top=0.7)\n",
    "plt.xlabel('Retweet Counts')\n",
    "plt.ylabel('Favorite Counts')\n",
    "plt.suptitle('compare Between favorite counts & retweet counts ', Fontsize =11);\n"
   ]
  },
  {
   "cell_type": "markdown",
   "id": "145ea3f2",
   "metadata": {},
   "source": [
    "# -6 what tweet have the highest favorites ?"
   ]
  },
  {
   "cell_type": "code",
   "execution_count": 235,
   "id": "900f0ac7",
   "metadata": {},
   "outputs": [
    {
     "data": {
      "text/html": [
       "<div>\n",
       "<style scoped>\n",
       "    .dataframe tbody tr th:only-of-type {\n",
       "        vertical-align: middle;\n",
       "    }\n",
       "\n",
       "    .dataframe tbody tr th {\n",
       "        vertical-align: top;\n",
       "    }\n",
       "\n",
       "    .dataframe thead th {\n",
       "        text-align: right;\n",
       "    }\n",
       "</style>\n",
       "<table border=\"1\" class=\"dataframe\">\n",
       "  <thead>\n",
       "    <tr style=\"text-align: right;\">\n",
       "      <th></th>\n",
       "      <th>tweet_id</th>\n",
       "      <th>tweet_date</th>\n",
       "      <th>text</th>\n",
       "      <th>name</th>\n",
       "      <th>stages_of_dogs</th>\n",
       "      <th>id</th>\n",
       "      <th>source</th>\n",
       "      <th>retweet_count</th>\n",
       "      <th>favorite_count</th>\n",
       "      <th>jpg_url</th>\n",
       "      <th>img_num</th>\n",
       "      <th>breed</th>\n",
       "      <th>created_at</th>\n",
       "    </tr>\n",
       "  </thead>\n",
       "  <tbody>\n",
       "    <tr>\n",
       "      <th>534</th>\n",
       "      <td>807106840509214720</td>\n",
       "      <td>2016-12-09 06:17:20+00:00</td>\n",
       "      <td>This is Stephan. He just wants to help. 13/10 ...</td>\n",
       "      <td>Stephan</td>\n",
       "      <td>NaN</td>\n",
       "      <td>8.071068e+17</td>\n",
       "      <td>Twitter for iPhone</td>\n",
       "      <td>56625.0</td>\n",
       "      <td>107015.0</td>\n",
       "      <td>https://pbs.twimg.com/ext_tw_video_thumb/80710...</td>\n",
       "      <td>1.0</td>\n",
       "      <td>pomeranian</td>\n",
       "      <td>12/2016</td>\n",
       "    </tr>\n",
       "  </tbody>\n",
       "</table>\n",
       "</div>"
      ],
      "text/plain": [
       "               tweet_id                tweet_date  \\\n",
       "534  807106840509214720 2016-12-09 06:17:20+00:00   \n",
       "\n",
       "                                                  text     name  \\\n",
       "534  This is Stephan. He just wants to help. 13/10 ...  Stephan   \n",
       "\n",
       "    stages_of_dogs            id              source  retweet_count  \\\n",
       "534            NaN  8.071068e+17  Twitter for iPhone        56625.0   \n",
       "\n",
       "     favorite_count                                            jpg_url  \\\n",
       "534        107015.0  https://pbs.twimg.com/ext_tw_video_thumb/80710...   \n",
       "\n",
       "     img_num       breed created_at  \n",
       "534      1.0  pomeranian    12/2016  "
      ]
     },
     "execution_count": 235,
     "metadata": {},
     "output_type": "execute_result"
    }
   ],
   "source": [
    "highest_favorits = merge_df_clean['favorite_count'].sort_values(ascending = False).index[0]\n",
    "merge_df_clean.loc[[highest_favorits]]"
   ]
  },
  {
   "cell_type": "code",
   "execution_count": null,
   "id": "2b5e01b7",
   "metadata": {},
   "outputs": [],
   "source": []
  }
 ],
 "metadata": {
  "kernelspec": {
   "display_name": "Python 3",
   "language": "python",
   "name": "python3"
  },
  "language_info": {
   "codemirror_mode": {
    "name": "ipython",
    "version": 3
   },
   "file_extension": ".py",
   "mimetype": "text/x-python",
   "name": "python",
   "nbconvert_exporter": "python",
   "pygments_lexer": "ipython3",
   "version": "3.8.8"
  }
 },
 "nbformat": 4,
 "nbformat_minor": 5
}
